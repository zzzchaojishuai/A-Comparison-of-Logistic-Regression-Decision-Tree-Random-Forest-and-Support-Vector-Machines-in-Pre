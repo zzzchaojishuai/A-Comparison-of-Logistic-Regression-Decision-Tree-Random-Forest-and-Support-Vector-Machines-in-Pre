{
 "cells": [
  {
   "cell_type": "markdown",
   "metadata": {},
   "source": [
    "# CASA0006 DSSS Personal_Assessment"
   ]
  },
  {
   "cell_type": "markdown",
   "metadata": {},
   "source": [
    "### A Comparison of Logistic Regression, Decision Tree, Random Forest and Support Vector Machines in Predicting Public's Attitudes to The Basic Income\n",
    "Word count: 2752 , and this code may take about 350s "
   ]
  },
  {
   "cell_type": "markdown",
   "metadata": {},
   "source": [
    "## 1. Introduction and Literature Review"
   ]
  },
  {
   "cell_type": "markdown",
   "metadata": {},
   "source": [
    "Basic income (BI) was proposed by Phillip van Parijs (1997) as social welfare policy, that is a fixed amount of money for each person regardless of property status or their ability to gain income. Definitions for BI was then developed, but the commonly used one is that a fixed amount of money paid by a government to all citizens (or residents)   aged (for example) sixteen and elder on a monthly basis; and the only requirement for the recipient is ‘an eligible member’ of a government with no other conditions (Mencinger, 2015). While the initial aim of Bi is to guarantee people's basic needs, it has aroused different opinions within Europe. On the one hand, scholars represented by Mencinger (2015) support BI because it is an economically feasible and socially desirable solution in Europe and it could enhance the long-term stability and persistence of European associations. Also, according to the leading supporter of BI, Philippe Van Parijs, the purpose of basic income is to help people who suffered from unemployment and poorly remunerated employment to achieve the \"real freedom\" (1997) because he believed that BI can guarantee the financial resources, the basic requirement of real freedom.  Furthermore, BI is believed to be able to reduce the vulnerability of the poor and labourers to long-term risk of job displacement by securing their ‘power to say no’ (Jones, 2013).\n",
    "\n",
    "On the other hand, Coyle and Wildavsky (1987) opposed BI because they believe that the curse of the poor is to give them more money since they may only use the money to meet basic needs and not pursue more wealth. And this has become a ground for opposing basic income policy. Other critics, such as Moffitt (1981) and Kenworthy (2014), worried this policy may lead to low participation in the labour market. Kenworthy (2014) also mentioned that adopting BI may weaken the economy because of low work incentives and decoupling labours from the social environment. Besides that, Calnitsky and Latner (2017) analyzed effects from a basic income experiment that took place in a rural town called Dauphin in the Canadian province of Manitoba. The results showed that 11.3% reduction in labour market participation caused by a modestly sized basic income, 30% of which can be attributed to social interaction effects. Also, the experiment showed that some factors, for example, gender, age, family status, and education level, could affect results. \n",
    "\n",
    "Even the past research has had great analysis from sociologists’ perspectives, the public’s views on this policy were neglecting, including social analysis or prediction of the public's attitudes in different cities. Hence, this report aims to find the most suitable method to predict the public attitudes of the Basic Income based on a 2016 European questionnaire survey. Based on the findings mentioned before, those factors, such as gender, age, family status, education level, will be taken into consideration. This public questionnaire also recorded the nationality of interviewees, so nationality will be taken into account as a spatial factor. The data applied for this work will then be introduced firstly, so does the processing and visualization some critical data; the methods employed will then be displayed; it is also expected to present and discuss the results; and finally, limitation and conclusion for this case will be shown.\n"
   ]
  },
  {
   "cell_type": "markdown",
   "metadata": {},
   "source": [
    "## 2. Data Cleaning and Presentation "
   ]
  },
  {
   "cell_type": "markdown",
   "metadata": {},
   "source": [
    "### 2.1 Presentation of Data"
   ]
  },
  {
   "cell_type": "markdown",
   "metadata": {},
   "source": [
    "The data employed for this work comes from a BI Survey, which is considered as the first large-scale survey of Europeans' opinions and attitudes on basic income (Baranowski and Jabkowski, 2019). Dalia Research conducted this study in April 2016. According to the survey, there were 9,649 respondents in this study, which were taken across all 28 EU states. Besides that, various factors such as age, gender, region or country, education level and their attitudes are taken into consideration in this survey.\n",
    "\n",
    "After importing the relevant libraries and packages, part of the data with key information is shown below."
   ]
  },
  {
   "cell_type": "code",
   "execution_count": 1,
   "metadata": {},
   "outputs": [],
   "source": [
    "# import elevant libraries and packages at first \n",
    "import time\n",
    "import os\n",
    "from shutil import copyfile\n",
    "import numpy as np\n",
    "import matplotlib.pyplot as plt\n",
    "import pandas as pd\n",
    "import seaborn as sns\n",
    "\n",
    "# Default settings in class\n",
    "pd.set_option('display.max_rows', 300) # specifies number of rows to show\n",
    "pd.options.display.float_format = '{:40,.4f}'.format # specifies default number format to 4 decimal places\n",
    "\n",
    "start_time = time.time()  # record start time\n"
   ]
  },
  {
   "cell_type": "code",
   "execution_count": 2,
   "metadata": {},
   "outputs": [],
   "source": [
    "survey_data = pd.read_csv('basic_income_dataset_dalia.csv')  # Read data we need"
   ]
  },
  {
   "cell_type": "code",
   "execution_count": 3,
   "metadata": {},
   "outputs": [
    {
     "data": {
      "text/html": [
       "<div>\n",
       "<style scoped>\n",
       "    .dataframe tbody tr th:only-of-type {\n",
       "        vertical-align: middle;\n",
       "    }\n",
       "\n",
       "    .dataframe tbody tr th {\n",
       "        vertical-align: top;\n",
       "    }\n",
       "\n",
       "    .dataframe thead th {\n",
       "        text-align: right;\n",
       "    }\n",
       "</style>\n",
       "<table border=\"1\" class=\"dataframe\">\n",
       "  <thead>\n",
       "    <tr style=\"text-align: right;\">\n",
       "      <th></th>\n",
       "      <th>country_code</th>\n",
       "      <th>uuid</th>\n",
       "      <th>age</th>\n",
       "      <th>gender</th>\n",
       "      <th>rural</th>\n",
       "      <th>dem_education_level</th>\n",
       "      <th>dem_full_time_job</th>\n",
       "      <th>dem_has_children</th>\n",
       "      <th>question_bbi_2016wave4_basicincome_awareness</th>\n",
       "      <th>question_bbi_2016wave4_basicincome_vote</th>\n",
       "      <th>question_bbi_2016wave4_basicincome_effect</th>\n",
       "      <th>question_bbi_2016wave4_basicincome_argumentsfor</th>\n",
       "      <th>question_bbi_2016wave4_basicincome_argumentsagainst</th>\n",
       "      <th>age_group</th>\n",
       "      <th>weight</th>\n",
       "    </tr>\n",
       "  </thead>\n",
       "  <tbody>\n",
       "    <tr>\n",
       "      <th>0</th>\n",
       "      <td>AT</td>\n",
       "      <td>f6e7ee00-deac-0133-4de8-0a81e8b09a82</td>\n",
       "      <td>61</td>\n",
       "      <td>male</td>\n",
       "      <td>rural</td>\n",
       "      <td>no</td>\n",
       "      <td>no</td>\n",
       "      <td>no</td>\n",
       "      <td>I know something about it</td>\n",
       "      <td>I would not vote</td>\n",
       "      <td>None of the above</td>\n",
       "      <td>None of the above</td>\n",
       "      <td>None of the above</td>\n",
       "      <td>40_65</td>\n",
       "      <td>1.105.534.474</td>\n",
       "    </tr>\n",
       "    <tr>\n",
       "      <th>1</th>\n",
       "      <td>AT</td>\n",
       "      <td>54f0f1c0-dda1-0133-a559-0a81e8b09a82</td>\n",
       "      <td>57</td>\n",
       "      <td>male</td>\n",
       "      <td>urban</td>\n",
       "      <td>high</td>\n",
       "      <td>yes</td>\n",
       "      <td>yes</td>\n",
       "      <td>I understand it fully</td>\n",
       "      <td>I would probably vote for it</td>\n",
       "      <td>A basic income would not affect my work choices</td>\n",
       "      <td>It increases appreciation for household work a...</td>\n",
       "      <td>It might encourage people to stop working</td>\n",
       "      <td>40_65</td>\n",
       "      <td>1.533.248.826</td>\n",
       "    </tr>\n",
       "    <tr>\n",
       "      <th>2</th>\n",
       "      <td>AT</td>\n",
       "      <td>83127080-da3d-0133-c74f-0a81e8b09a82</td>\n",
       "      <td>32</td>\n",
       "      <td>male</td>\n",
       "      <td>urban</td>\n",
       "      <td>NaN</td>\n",
       "      <td>no</td>\n",
       "      <td>no</td>\n",
       "      <td>I have heard just a little about it</td>\n",
       "      <td>I would not vote</td>\n",
       "      <td>‰Û_ gain additional skills</td>\n",
       "      <td>It creates more equality of opportunity</td>\n",
       "      <td>Foreigners might come to my country and take a...</td>\n",
       "      <td>26_39</td>\n",
       "      <td>0.977591916</td>\n",
       "    </tr>\n",
       "    <tr>\n",
       "      <th>3</th>\n",
       "      <td>AT</td>\n",
       "      <td>15626d40-db13-0133-ea5c-0a81e8b09a82</td>\n",
       "      <td>45</td>\n",
       "      <td>male</td>\n",
       "      <td>rural</td>\n",
       "      <td>high</td>\n",
       "      <td>yes</td>\n",
       "      <td>yes</td>\n",
       "      <td>I have heard just a little about it</td>\n",
       "      <td>I would probably vote for it</td>\n",
       "      <td>‰Û_ work less</td>\n",
       "      <td>It reduces anxiety about financing basic needs</td>\n",
       "      <td>None of the above</td>\n",
       "      <td>40_65</td>\n",
       "      <td>1.105.534.474</td>\n",
       "    </tr>\n",
       "    <tr>\n",
       "      <th>4</th>\n",
       "      <td>AT</td>\n",
       "      <td>24954a70-db98-0133-4a64-0a81e8b09a82</td>\n",
       "      <td>41</td>\n",
       "      <td>female</td>\n",
       "      <td>urban</td>\n",
       "      <td>high</td>\n",
       "      <td>yes</td>\n",
       "      <td>yes</td>\n",
       "      <td>I have heard just a little about it</td>\n",
       "      <td>I would probably vote for it</td>\n",
       "      <td>None of the above</td>\n",
       "      <td>It reduces anxiety about financing basic needs</td>\n",
       "      <td>It is impossible to finance | It might encoura...</td>\n",
       "      <td>40_65</td>\n",
       "      <td>58.731.136</td>\n",
       "    </tr>\n",
       "  </tbody>\n",
       "</table>\n",
       "</div>"
      ],
      "text/plain": [
       "  country_code                                  uuid  age  gender  rural  \\\n",
       "0           AT  f6e7ee00-deac-0133-4de8-0a81e8b09a82   61    male  rural   \n",
       "1           AT  54f0f1c0-dda1-0133-a559-0a81e8b09a82   57    male  urban   \n",
       "2           AT  83127080-da3d-0133-c74f-0a81e8b09a82   32    male  urban   \n",
       "3           AT  15626d40-db13-0133-ea5c-0a81e8b09a82   45    male  rural   \n",
       "4           AT  24954a70-db98-0133-4a64-0a81e8b09a82   41  female  urban   \n",
       "\n",
       "  dem_education_level dem_full_time_job dem_has_children  \\\n",
       "0                  no                no               no   \n",
       "1                high               yes              yes   \n",
       "2                 NaN                no               no   \n",
       "3                high               yes              yes   \n",
       "4                high               yes              yes   \n",
       "\n",
       "  question_bbi_2016wave4_basicincome_awareness  \\\n",
       "0                    I know something about it   \n",
       "1                        I understand it fully   \n",
       "2          I have heard just a little about it   \n",
       "3          I have heard just a little about it   \n",
       "4          I have heard just a little about it   \n",
       "\n",
       "  question_bbi_2016wave4_basicincome_vote  \\\n",
       "0                        I would not vote   \n",
       "1            I would probably vote for it   \n",
       "2                        I would not vote   \n",
       "3            I would probably vote for it   \n",
       "4            I would probably vote for it   \n",
       "\n",
       "         question_bbi_2016wave4_basicincome_effect  \\\n",
       "0                                None of the above   \n",
       "1  A basic income would not affect my work choices   \n",
       "2                       ‰Û_ gain additional skills   \n",
       "3                                    ‰Û_ work less   \n",
       "4                                None of the above   \n",
       "\n",
       "     question_bbi_2016wave4_basicincome_argumentsfor  \\\n",
       "0                                  None of the above   \n",
       "1  It increases appreciation for household work a...   \n",
       "2            It creates more equality of opportunity   \n",
       "3     It reduces anxiety about financing basic needs   \n",
       "4     It reduces anxiety about financing basic needs   \n",
       "\n",
       "  question_bbi_2016wave4_basicincome_argumentsagainst age_group         weight  \n",
       "0                                  None of the above      40_65  1.105.534.474  \n",
       "1          It might encourage people to stop working      40_65  1.533.248.826  \n",
       "2  Foreigners might come to my country and take a...      26_39    0.977591916  \n",
       "3                                  None of the above      40_65  1.105.534.474  \n",
       "4  It is impossible to finance | It might encoura...      40_65     58.731.136  "
      ]
     },
     "execution_count": 3,
     "metadata": {},
     "output_type": "execute_result"
    }
   ],
   "source": [
    "# to view some first rows\n",
    "survey_data.head()"
   ]
  },
  {
   "cell_type": "code",
   "execution_count": 4,
   "metadata": {},
   "outputs": [
    {
     "name": "stdout",
     "output_type": "stream",
     "text": [
      "<class 'pandas.core.frame.DataFrame'>\n",
      "RangeIndex: 9649 entries, 0 to 9648\n",
      "Data columns (total 15 columns):\n",
      "country_code                                           9649 non-null object\n",
      "uuid                                                   9649 non-null object\n",
      "age                                                    9649 non-null int64\n",
      "gender                                                 9649 non-null object\n",
      "rural                                                  9649 non-null object\n",
      "dem_education_level                                    8986 non-null object\n",
      "dem_full_time_job                                      9649 non-null object\n",
      "dem_has_children                                       9649 non-null object\n",
      "question_bbi_2016wave4_basicincome_awareness           9649 non-null object\n",
      "question_bbi_2016wave4_basicincome_vote                9649 non-null object\n",
      "question_bbi_2016wave4_basicincome_effect              9649 non-null object\n",
      "question_bbi_2016wave4_basicincome_argumentsfor        9649 non-null object\n",
      "question_bbi_2016wave4_basicincome_argumentsagainst    9649 non-null object\n",
      "age_group                                              9649 non-null object\n",
      "weight                                                 9649 non-null object\n",
      "dtypes: int64(1), object(14)\n",
      "memory usage: 1.1+ MB\n"
     ]
    }
   ],
   "source": [
    "# use info() function to view the missing values and dtype of each column\n",
    "survey_data.info()"
   ]
  },
  {
   "cell_type": "code",
   "execution_count": 5,
   "metadata": {},
   "outputs": [
    {
     "data": {
      "text/html": [
       "<div>\n",
       "<style scoped>\n",
       "    .dataframe tbody tr th:only-of-type {\n",
       "        vertical-align: middle;\n",
       "    }\n",
       "\n",
       "    .dataframe tbody tr th {\n",
       "        vertical-align: top;\n",
       "    }\n",
       "\n",
       "    .dataframe thead th {\n",
       "        text-align: right;\n",
       "    }\n",
       "</style>\n",
       "<table border=\"1\" class=\"dataframe\">\n",
       "  <thead>\n",
       "    <tr style=\"text-align: right;\">\n",
       "      <th></th>\n",
       "      <th>count</th>\n",
       "      <th>unique</th>\n",
       "      <th>top</th>\n",
       "      <th>freq</th>\n",
       "    </tr>\n",
       "  </thead>\n",
       "  <tbody>\n",
       "    <tr>\n",
       "      <th>country_code</th>\n",
       "      <td>9649</td>\n",
       "      <td>28</td>\n",
       "      <td>DE</td>\n",
       "      <td>1420</td>\n",
       "    </tr>\n",
       "    <tr>\n",
       "      <th>uuid</th>\n",
       "      <td>9649</td>\n",
       "      <td>9649</td>\n",
       "      <td>65f27ed0-dc05-0133-df47-0a81e8b09a82</td>\n",
       "      <td>1</td>\n",
       "    </tr>\n",
       "    <tr>\n",
       "      <th>gender</th>\n",
       "      <td>9649</td>\n",
       "      <td>2</td>\n",
       "      <td>male</td>\n",
       "      <td>5094</td>\n",
       "    </tr>\n",
       "    <tr>\n",
       "      <th>rural</th>\n",
       "      <td>9649</td>\n",
       "      <td>2</td>\n",
       "      <td>urban</td>\n",
       "      <td>6878</td>\n",
       "    </tr>\n",
       "    <tr>\n",
       "      <th>dem_education_level</th>\n",
       "      <td>8986</td>\n",
       "      <td>4</td>\n",
       "      <td>medium</td>\n",
       "      <td>3578</td>\n",
       "    </tr>\n",
       "    <tr>\n",
       "      <th>dem_full_time_job</th>\n",
       "      <td>9649</td>\n",
       "      <td>2</td>\n",
       "      <td>yes</td>\n",
       "      <td>5702</td>\n",
       "    </tr>\n",
       "    <tr>\n",
       "      <th>dem_has_children</th>\n",
       "      <td>9649</td>\n",
       "      <td>2</td>\n",
       "      <td>yes</td>\n",
       "      <td>5049</td>\n",
       "    </tr>\n",
       "    <tr>\n",
       "      <th>question_bbi_2016wave4_basicincome_awareness</th>\n",
       "      <td>9649</td>\n",
       "      <td>4</td>\n",
       "      <td>I know something about it</td>\n",
       "      <td>3389</td>\n",
       "    </tr>\n",
       "    <tr>\n",
       "      <th>question_bbi_2016wave4_basicincome_vote</th>\n",
       "      <td>9649</td>\n",
       "      <td>5</td>\n",
       "      <td>I would probably vote for it</td>\n",
       "      <td>3272</td>\n",
       "    </tr>\n",
       "    <tr>\n",
       "      <th>question_bbi_2016wave4_basicincome_effect</th>\n",
       "      <td>9649</td>\n",
       "      <td>9</td>\n",
       "      <td>A basic income would not affect my work choices</td>\n",
       "      <td>3349</td>\n",
       "    </tr>\n",
       "    <tr>\n",
       "      <th>question_bbi_2016wave4_basicincome_argumentsfor</th>\n",
       "      <td>9649</td>\n",
       "      <td>674</td>\n",
       "      <td>None of the above</td>\n",
       "      <td>2163</td>\n",
       "    </tr>\n",
       "    <tr>\n",
       "      <th>question_bbi_2016wave4_basicincome_argumentsagainst</th>\n",
       "      <td>9649</td>\n",
       "      <td>881</td>\n",
       "      <td>None of the above</td>\n",
       "      <td>1381</td>\n",
       "    </tr>\n",
       "    <tr>\n",
       "      <th>age_group</th>\n",
       "      <td>9649</td>\n",
       "      <td>3</td>\n",
       "      <td>40_65</td>\n",
       "      <td>4896</td>\n",
       "    </tr>\n",
       "    <tr>\n",
       "      <th>weight</th>\n",
       "      <td>9649</td>\n",
       "      <td>854</td>\n",
       "      <td>0.850704263</td>\n",
       "      <td>116</td>\n",
       "    </tr>\n",
       "  </tbody>\n",
       "</table>\n",
       "</div>"
      ],
      "text/plain": [
       "                                                   count unique  \\\n",
       "country_code                                        9649     28   \n",
       "uuid                                                9649   9649   \n",
       "gender                                              9649      2   \n",
       "rural                                               9649      2   \n",
       "dem_education_level                                 8986      4   \n",
       "dem_full_time_job                                   9649      2   \n",
       "dem_has_children                                    9649      2   \n",
       "question_bbi_2016wave4_basicincome_awareness        9649      4   \n",
       "question_bbi_2016wave4_basicincome_vote             9649      5   \n",
       "question_bbi_2016wave4_basicincome_effect           9649      9   \n",
       "question_bbi_2016wave4_basicincome_argumentsfor     9649    674   \n",
       "question_bbi_2016wave4_basicincome_argumentsaga...  9649    881   \n",
       "age_group                                           9649      3   \n",
       "weight                                              9649    854   \n",
       "\n",
       "                                                                                                top  \\\n",
       "country_code                                                                                     DE   \n",
       "uuid                                                           65f27ed0-dc05-0133-df47-0a81e8b09a82   \n",
       "gender                                                                                         male   \n",
       "rural                                                                                         urban   \n",
       "dem_education_level                                                                          medium   \n",
       "dem_full_time_job                                                                               yes   \n",
       "dem_has_children                                                                                yes   \n",
       "question_bbi_2016wave4_basicincome_awareness                              I know something about it   \n",
       "question_bbi_2016wave4_basicincome_vote                                I would probably vote for it   \n",
       "question_bbi_2016wave4_basicincome_effect           A basic income would not affect my work choices   \n",
       "question_bbi_2016wave4_basicincome_argumentsfor                                   None of the above   \n",
       "question_bbi_2016wave4_basicincome_argumentsaga...                                None of the above   \n",
       "age_group                                                                                     40_65   \n",
       "weight                                                                                  0.850704263   \n",
       "\n",
       "                                                    freq  \n",
       "country_code                                        1420  \n",
       "uuid                                                   1  \n",
       "gender                                              5094  \n",
       "rural                                               6878  \n",
       "dem_education_level                                 3578  \n",
       "dem_full_time_job                                   5702  \n",
       "dem_has_children                                    5049  \n",
       "question_bbi_2016wave4_basicincome_awareness        3389  \n",
       "question_bbi_2016wave4_basicincome_vote             3272  \n",
       "question_bbi_2016wave4_basicincome_effect           3349  \n",
       "question_bbi_2016wave4_basicincome_argumentsfor     2163  \n",
       "question_bbi_2016wave4_basicincome_argumentsaga...  1381  \n",
       "age_group                                           4896  \n",
       "weight                                               116  "
      ]
     },
     "execution_count": 5,
     "metadata": {},
     "output_type": "execute_result"
    }
   ],
   "source": [
    "# To inspect the objects (strings), use include=['O']. 'O' means OBJECT type.\n",
    "survey_data.describe(include=['O']).T"
   ]
  },
  {
   "cell_type": "markdown",
   "metadata": {},
   "source": [
    "### 2.2 Data Processing"
   ]
  },
  {
   "cell_type": "markdown",
   "metadata": {},
   "source": [
    "#### 2.2.1 Rename the columns"
   ]
  },
  {
   "cell_type": "markdown",
   "metadata": {},
   "source": [
    "The original column names in the questionnaire were modified because they contained unnecessary symbols which are not suitable in the analysis. The contents were also checked once more. "
   ]
  },
  {
   "cell_type": "code",
   "execution_count": 6,
   "metadata": {},
   "outputs": [],
   "source": [
    "#rename the column\n",
    "survey_data.rename(columns = {'rural':'City_or_Rural',\n",
    "                     'dem_education_level':'Education_Level',\n",
    "                     'dem_full_time_job':'Full_time_job_or_Not',\n",
    "                     'dem_has_children':'Has_Children',\n",
    "                     'question_bbi_2016wave4_basicincome_awareness':'Awareness',\n",
    "                     'question_bbi_2016wave4_basicincome_vote':'Vote',\n",
    "                     'question_bbi_2016wave4_basicincome_effect':'Effect',\n",
    "                     'question_bbi_2016wave4_basicincome_argumentsfor':'Reason_for',\n",
    "                     'question_bbi_2016wave4_basicincome_argumentsagainst':'Reason_against'},inplace=True)"
   ]
  },
  {
   "cell_type": "code",
   "execution_count": 7,
   "metadata": {},
   "outputs": [
    {
     "data": {
      "text/plain": [
       "(9649, 15)"
      ]
     },
     "execution_count": 7,
     "metadata": {},
     "output_type": "execute_result"
    }
   ],
   "source": [
    "survey_data.shape #check the data shape "
   ]
  },
  {
   "cell_type": "code",
   "execution_count": 8,
   "metadata": {},
   "outputs": [
    {
     "data": {
      "text/html": [
       "<div>\n",
       "<style scoped>\n",
       "    .dataframe tbody tr th:only-of-type {\n",
       "        vertical-align: middle;\n",
       "    }\n",
       "\n",
       "    .dataframe tbody tr th {\n",
       "        vertical-align: top;\n",
       "    }\n",
       "\n",
       "    .dataframe thead th {\n",
       "        text-align: right;\n",
       "    }\n",
       "</style>\n",
       "<table border=\"1\" class=\"dataframe\">\n",
       "  <thead>\n",
       "    <tr style=\"text-align: right;\">\n",
       "      <th></th>\n",
       "      <th>country_code</th>\n",
       "      <th>uuid</th>\n",
       "      <th>age</th>\n",
       "      <th>gender</th>\n",
       "      <th>City_or_Rural</th>\n",
       "      <th>Education_Level</th>\n",
       "      <th>Full_time_job_or_Not</th>\n",
       "      <th>Has_Children</th>\n",
       "      <th>Awareness</th>\n",
       "      <th>Vote</th>\n",
       "      <th>Effect</th>\n",
       "      <th>Reason_for</th>\n",
       "      <th>Reason_against</th>\n",
       "      <th>age_group</th>\n",
       "      <th>weight</th>\n",
       "    </tr>\n",
       "  </thead>\n",
       "  <tbody>\n",
       "    <tr>\n",
       "      <th>0</th>\n",
       "      <td>AT</td>\n",
       "      <td>f6e7ee00-deac-0133-4de8-0a81e8b09a82</td>\n",
       "      <td>61</td>\n",
       "      <td>male</td>\n",
       "      <td>rural</td>\n",
       "      <td>no</td>\n",
       "      <td>no</td>\n",
       "      <td>no</td>\n",
       "      <td>I know something about it</td>\n",
       "      <td>I would not vote</td>\n",
       "      <td>None of the above</td>\n",
       "      <td>None of the above</td>\n",
       "      <td>None of the above</td>\n",
       "      <td>40_65</td>\n",
       "      <td>1.105.534.474</td>\n",
       "    </tr>\n",
       "    <tr>\n",
       "      <th>1</th>\n",
       "      <td>AT</td>\n",
       "      <td>54f0f1c0-dda1-0133-a559-0a81e8b09a82</td>\n",
       "      <td>57</td>\n",
       "      <td>male</td>\n",
       "      <td>urban</td>\n",
       "      <td>high</td>\n",
       "      <td>yes</td>\n",
       "      <td>yes</td>\n",
       "      <td>I understand it fully</td>\n",
       "      <td>I would probably vote for it</td>\n",
       "      <td>A basic income would not affect my work choices</td>\n",
       "      <td>It increases appreciation for household work a...</td>\n",
       "      <td>It might encourage people to stop working</td>\n",
       "      <td>40_65</td>\n",
       "      <td>1.533.248.826</td>\n",
       "    </tr>\n",
       "    <tr>\n",
       "      <th>2</th>\n",
       "      <td>AT</td>\n",
       "      <td>83127080-da3d-0133-c74f-0a81e8b09a82</td>\n",
       "      <td>32</td>\n",
       "      <td>male</td>\n",
       "      <td>urban</td>\n",
       "      <td>NaN</td>\n",
       "      <td>no</td>\n",
       "      <td>no</td>\n",
       "      <td>I have heard just a little about it</td>\n",
       "      <td>I would not vote</td>\n",
       "      <td>‰Û_ gain additional skills</td>\n",
       "      <td>It creates more equality of opportunity</td>\n",
       "      <td>Foreigners might come to my country and take a...</td>\n",
       "      <td>26_39</td>\n",
       "      <td>0.977591916</td>\n",
       "    </tr>\n",
       "    <tr>\n",
       "      <th>3</th>\n",
       "      <td>AT</td>\n",
       "      <td>15626d40-db13-0133-ea5c-0a81e8b09a82</td>\n",
       "      <td>45</td>\n",
       "      <td>male</td>\n",
       "      <td>rural</td>\n",
       "      <td>high</td>\n",
       "      <td>yes</td>\n",
       "      <td>yes</td>\n",
       "      <td>I have heard just a little about it</td>\n",
       "      <td>I would probably vote for it</td>\n",
       "      <td>‰Û_ work less</td>\n",
       "      <td>It reduces anxiety about financing basic needs</td>\n",
       "      <td>None of the above</td>\n",
       "      <td>40_65</td>\n",
       "      <td>1.105.534.474</td>\n",
       "    </tr>\n",
       "    <tr>\n",
       "      <th>4</th>\n",
       "      <td>AT</td>\n",
       "      <td>24954a70-db98-0133-4a64-0a81e8b09a82</td>\n",
       "      <td>41</td>\n",
       "      <td>female</td>\n",
       "      <td>urban</td>\n",
       "      <td>high</td>\n",
       "      <td>yes</td>\n",
       "      <td>yes</td>\n",
       "      <td>I have heard just a little about it</td>\n",
       "      <td>I would probably vote for it</td>\n",
       "      <td>None of the above</td>\n",
       "      <td>It reduces anxiety about financing basic needs</td>\n",
       "      <td>It is impossible to finance | It might encoura...</td>\n",
       "      <td>40_65</td>\n",
       "      <td>58.731.136</td>\n",
       "    </tr>\n",
       "  </tbody>\n",
       "</table>\n",
       "</div>"
      ],
      "text/plain": [
       "  country_code                                  uuid  age  gender  \\\n",
       "0           AT  f6e7ee00-deac-0133-4de8-0a81e8b09a82   61    male   \n",
       "1           AT  54f0f1c0-dda1-0133-a559-0a81e8b09a82   57    male   \n",
       "2           AT  83127080-da3d-0133-c74f-0a81e8b09a82   32    male   \n",
       "3           AT  15626d40-db13-0133-ea5c-0a81e8b09a82   45    male   \n",
       "4           AT  24954a70-db98-0133-4a64-0a81e8b09a82   41  female   \n",
       "\n",
       "  City_or_Rural Education_Level Full_time_job_or_Not Has_Children  \\\n",
       "0         rural              no                   no           no   \n",
       "1         urban            high                  yes          yes   \n",
       "2         urban             NaN                   no           no   \n",
       "3         rural            high                  yes          yes   \n",
       "4         urban            high                  yes          yes   \n",
       "\n",
       "                             Awareness                          Vote  \\\n",
       "0            I know something about it              I would not vote   \n",
       "1                I understand it fully  I would probably vote for it   \n",
       "2  I have heard just a little about it              I would not vote   \n",
       "3  I have heard just a little about it  I would probably vote for it   \n",
       "4  I have heard just a little about it  I would probably vote for it   \n",
       "\n",
       "                                            Effect  \\\n",
       "0                                None of the above   \n",
       "1  A basic income would not affect my work choices   \n",
       "2                       ‰Û_ gain additional skills   \n",
       "3                                    ‰Û_ work less   \n",
       "4                                None of the above   \n",
       "\n",
       "                                          Reason_for  \\\n",
       "0                                  None of the above   \n",
       "1  It increases appreciation for household work a...   \n",
       "2            It creates more equality of opportunity   \n",
       "3     It reduces anxiety about financing basic needs   \n",
       "4     It reduces anxiety about financing basic needs   \n",
       "\n",
       "                                      Reason_against age_group         weight  \n",
       "0                                  None of the above     40_65  1.105.534.474  \n",
       "1          It might encourage people to stop working     40_65  1.533.248.826  \n",
       "2  Foreigners might come to my country and take a...     26_39    0.977591916  \n",
       "3                                  None of the above     40_65  1.105.534.474  \n",
       "4  It is impossible to finance | It might encoura...     40_65     58.731.136  "
      ]
     },
     "execution_count": 8,
     "metadata": {},
     "output_type": "execute_result"
    }
   ],
   "source": [
    "survey_data.head() # check the data, and the name of column"
   ]
  },
  {
   "cell_type": "markdown",
   "metadata": {},
   "source": [
    "#### 2.2.2 Dealing with missing data"
   ]
  },
  {
   "cell_type": "markdown",
   "metadata": {},
   "source": [
    "The next step then is to use`.count()`and `.isna()` to find whether the dataset contains null values. According to the results shown below, the column named as `Education_Level` has many null variables. Hence, `fillna()` method is used to handle missing values. "
   ]
  },
  {
   "cell_type": "code",
   "execution_count": 9,
   "metadata": {},
   "outputs": [
    {
     "data": {
      "text/plain": [
       "country_code            9649\n",
       "uuid                    9649\n",
       "age                     9649\n",
       "gender                  9649\n",
       "City_or_Rural           9649\n",
       "Education_Level         8986\n",
       "Full_time_job_or_Not    9649\n",
       "Has_Children            9649\n",
       "Awareness               9649\n",
       "Vote                    9649\n",
       "Effect                  9649\n",
       "Reason_for              9649\n",
       "Reason_against          9649\n",
       "age_group               9649\n",
       "weight                  9649\n",
       "dtype: int64"
      ]
     },
     "execution_count": 9,
     "metadata": {},
     "output_type": "execute_result"
    }
   ],
   "source": [
    "survey_data.count()  #  count each column"
   ]
  },
  {
   "cell_type": "code",
   "execution_count": 10,
   "metadata": {},
   "outputs": [
    {
     "data": {
      "text/plain": [
       "country_code              0\n",
       "uuid                      0\n",
       "age                       0\n",
       "gender                    0\n",
       "City_or_Rural             0\n",
       "Education_Level         663\n",
       "Full_time_job_or_Not      0\n",
       "Has_Children              0\n",
       "Awareness                 0\n",
       "Vote                      0\n",
       "Effect                    0\n",
       "Reason_for                0\n",
       "Reason_against            0\n",
       "age_group                 0\n",
       "weight                    0\n",
       "dtype: int64"
      ]
     },
     "execution_count": 10,
     "metadata": {},
     "output_type": "execute_result"
    }
   ],
   "source": [
    "survey_data.isna().sum()  # find NA"
   ]
  },
  {
   "cell_type": "markdown",
   "metadata": {},
   "source": [
    "To be more specific, `Educational_Level` was generated from one single question: `‘Which of the following best describes your formal education? ’` . There were five choices, namely `‘I do not have a formal education’`, `‘I have some high school or secondary school education’`, `‘I completed high school or obtained an equivalent diploma’`, `‘I have completed a university or equivalent degree’`, and `‘Other/I would rather not answer this question’`. When a participant selects the final choice, which produces a null value, it is possible that this participant has not experienced formal education or received a technical education, which is a similar situation to answer 1. Followed by Baranowski and Jabkowski (2019), who treated null values as 'no' in their research, this report modified these null values generated from the final choice as 'no' to facilitate analysis."
   ]
  },
  {
   "cell_type": "code",
   "execution_count": 11,
   "metadata": {},
   "outputs": [
    {
     "data": {
      "text/plain": [
       "array(['no', 'high', nan, 'medium', 'low'], dtype=object)"
      ]
     },
     "execution_count": 11,
     "metadata": {},
     "output_type": "execute_result"
    }
   ],
   "source": [
    "survey_data.Education_Level.unique() # Return unique values of Education_Level"
   ]
  },
  {
   "cell_type": "code",
   "execution_count": 12,
   "metadata": {},
   "outputs": [
    {
     "data": {
      "text/plain": [
       "medium    3578\n",
       "high      3270\n",
       "low       1815\n",
       "no         323\n",
       "Name: Education_Level, dtype: int64"
      ]
     },
     "execution_count": 12,
     "metadata": {},
     "output_type": "execute_result"
    }
   ],
   "source": [
    "survey_data.Education_Level.value_counts() #count the Education_Level"
   ]
  },
  {
   "cell_type": "code",
   "execution_count": 13,
   "metadata": {},
   "outputs": [],
   "source": [
    "survey_data.fillna('no', inplace=True)  # Fill NA with no"
   ]
  },
  {
   "cell_type": "code",
   "execution_count": 14,
   "metadata": {},
   "outputs": [
    {
     "data": {
      "text/plain": [
       "array(['no', 'high', 'medium', 'low'], dtype=object)"
      ]
     },
     "execution_count": 14,
     "metadata": {},
     "output_type": "execute_result"
    }
   ],
   "source": [
    "survey_data.Education_Level.unique()  # Check unique values of Education_Level"
   ]
  },
  {
   "cell_type": "code",
   "execution_count": 15,
   "metadata": {
    "scrolled": true
   },
   "outputs": [
    {
     "data": {
      "text/plain": [
       "country_code            0\n",
       "uuid                    0\n",
       "age                     0\n",
       "gender                  0\n",
       "City_or_Rural           0\n",
       "Education_Level         0\n",
       "Full_time_job_or_Not    0\n",
       "Has_Children            0\n",
       "Awareness               0\n",
       "Vote                    0\n",
       "Effect                  0\n",
       "Reason_for              0\n",
       "Reason_against          0\n",
       "age_group               0\n",
       "weight                  0\n",
       "dtype: int64"
      ]
     },
     "execution_count": 15,
     "metadata": {},
     "output_type": "execute_result"
    }
   ],
   "source": [
    "survey_data.isna().sum()"
   ]
  },
  {
   "cell_type": "markdown",
   "metadata": {},
   "source": [
    "### 2.2.3 Data transfomation"
   ]
  },
  {
   "cell_type": "markdown",
   "metadata": {},
   "source": [
    "With confirmed zero missing data value in the original dataset, the data cleaning process smoothly ended. For the next step, the text columns in the dataset were converted to an identifiable form. For example, the Vote results were transferred to `‘for, against or no action’` from their original answers. Furthermore, answers for reasons to support or not, awareness and effect were simplified by extracting keywords from original answers."
   ]
  },
  {
   "cell_type": "markdown",
   "metadata": {},
   "source": [
    "#### 2.2.3.1 Transfer Vote Results"
   ]
  },
  {
   "cell_type": "code",
   "execution_count": 16,
   "metadata": {},
   "outputs": [],
   "source": [
    "# Transfer Vote Results to positive and negative results\n",
    "def rearrange_vote(data):\n",
    "    switcher={\n",
    "        'I would not vote':'no_action',\n",
    "        'I would probably vote for it':'for',\n",
    "        'I would vote for it':'for',\n",
    "        'I would vote against it':'against',\n",
    "        'I would probably vote against it':'against',\n",
    "    }\n",
    "    return switcher.get(data,\"NaN\")\n",
    "\n",
    "\n",
    "survey_data['Vote'] = survey_data['Vote'].apply(rearrange_vote)"
   ]
  },
  {
   "cell_type": "code",
   "execution_count": 17,
   "metadata": {},
   "outputs": [
    {
     "data": {
      "text/plain": [
       "array(['no_action', 'for', 'against'], dtype=object)"
      ]
     },
     "execution_count": 17,
     "metadata": {},
     "output_type": "execute_result"
    }
   ],
   "source": [
    "survey_data.Vote.unique()  # Check unique values of Vote Results"
   ]
  },
  {
   "cell_type": "markdown",
   "metadata": {},
   "source": [
    "#### 2.2.3.2 Transfer Awareness Results"
   ]
  },
  {
   "cell_type": "code",
   "execution_count": 18,
   "metadata": {},
   "outputs": [
    {
     "data": {
      "text/plain": [
       "array(['I know something about it', 'I understand it fully',\n",
       "       'I have heard just a little about it', 'I have never heard of it'],\n",
       "      dtype=object)"
      ]
     },
     "execution_count": 18,
     "metadata": {},
     "output_type": "execute_result"
    }
   ],
   "source": [
    "survey_data.Awareness.unique()   # Return unique values of Awareness Results"
   ]
  },
  {
   "cell_type": "code",
   "execution_count": 19,
   "metadata": {},
   "outputs": [],
   "source": [
    "# Transfer Awareness Results \n",
    "\n",
    "def rearrange_awareness(data):\n",
    "    switcher={\n",
    "        'I understand it fully':'fully',\n",
    "        'I know something about it':'something',\n",
    "        'I have heard just a little about it':'a_little',\n",
    "        'I have never heard of it':'never_heard',\n",
    "    }\n",
    "    return switcher.get(data,\"NaN\")\n",
    "\n",
    "\n",
    "survey_data['Awareness'] = survey_data['Awareness'].apply(rearrange_awareness)"
   ]
  },
  {
   "cell_type": "code",
   "execution_count": 20,
   "metadata": {},
   "outputs": [
    {
     "data": {
      "text/plain": [
       "array(['something', 'fully', 'a_little', 'never_heard'], dtype=object)"
      ]
     },
     "execution_count": 20,
     "metadata": {},
     "output_type": "execute_result"
    }
   ],
   "source": [
    "survey_data.Awareness.unique()  # Check unique values of Awareness Results"
   ]
  },
  {
   "cell_type": "markdown",
   "metadata": {},
   "source": [
    "#### 2.2.3.3 Transfer Effect Results"
   ]
  },
  {
   "cell_type": "code",
   "execution_count": 21,
   "metadata": {},
   "outputs": [
    {
     "data": {
      "text/plain": [
       "array(['None of the above',\n",
       "       'A basic income would not affect my work choices',\n",
       "       '‰Û_ gain additional skills', '‰Û_ work less',\n",
       "       '‰Û_ work as a freelancer', '‰Û_ do more volunteering work',\n",
       "       '‰Û_ stop working', '‰Û_ spend more time with my family',\n",
       "       '‰Û_ look for a different job'], dtype=object)"
      ]
     },
     "execution_count": 21,
     "metadata": {},
     "output_type": "execute_result"
    }
   ],
   "source": [
    "survey_data.Effect.unique()   # Return unique values of Effect"
   ]
  },
  {
   "cell_type": "code",
   "execution_count": 22,
   "metadata": {},
   "outputs": [],
   "source": [
    "# Transfer Effect Results \n",
    "\n",
    "def rearrange_effect(data):\n",
    "    switcher={\n",
    "        '‰Û_ gain additional skills':'gain_additional_skills',\n",
    "        '‰Û_ work less':'work_less',\n",
    "        '‰Û_ work as a freelancer':'freelancer',\n",
    "        '‰Û_ do more volunteering work':'more_volunteering_work',\n",
    "        '‰Û_ stop working':'stop_working',\n",
    "        '‰Û_ spend more time with my family':'more_family_time',\n",
    "        '‰Û_ look for a different job':'change_a_job',\n",
    "        'A basic income would not affect my work choices':'no_effect',\n",
    "\n",
    "    }\n",
    "    return switcher.get(data,\"none_of_the_above\")\n",
    "\n",
    "\n",
    "survey_data['Effect'] = survey_data['Effect'].apply(rearrange_effect)"
   ]
  },
  {
   "cell_type": "code",
   "execution_count": 23,
   "metadata": {},
   "outputs": [
    {
     "data": {
      "text/plain": [
       "array(['none_of_the_above', 'no_effect', 'gain_additional_skills',\n",
       "       'work_less', 'freelancer', 'more_volunteering_work',\n",
       "       'stop_working', 'more_family_time', 'change_a_job'], dtype=object)"
      ]
     },
     "execution_count": 23,
     "metadata": {},
     "output_type": "execute_result"
    }
   ],
   "source": [
    "survey_data.Effect.unique()  # Check unique values of Effect Results"
   ]
  },
  {
   "cell_type": "markdown",
   "metadata": {},
   "source": [
    "#### 2.2.3.4 Transfer Reason Results###"
   ]
  },
  {
   "cell_type": "markdown",
   "metadata": {},
   "source": [
    "The text columns for reasons are different since this is a multiple-choice question, the answers are too complex to apply. Hence, this work converts reasons for Boolean values (Ture or False) by searching for keywords."
   ]
  },
  {
   "cell_type": "code",
   "execution_count": 24,
   "metadata": {},
   "outputs": [],
   "source": [
    "# Transfer Reaon_for \n",
    "survey_data['Reduce_anxiety'] = survey_data['Reason_for'].str.contains('anxiety')\n",
    "survey_data['Create_more_equality'] = survey_data['Reason_for'].str.contains('equality')\n",
    "survey_data['Encourages_fin_independence&self-respon'] = survey_data['Reason_for'].str.contains('financial independence')\n",
    "survey_data['Increases_solidarity'] = survey_data['Reason_for'].str.contains('solidarity')\n",
    "survey_data['Reduces_bureaucracy'] = survey_data['Reason_for'].str.contains('bureaucracy')\n",
    "survey_data['Increases_appreciation'] = survey_data['Reason_for'].str.contains('appreciation')\n",
    "survey_data['Just_support'] = survey_data['Reason_for'].str.contains('None')\n"
   ]
  },
  {
   "cell_type": "code",
   "execution_count": 25,
   "metadata": {},
   "outputs": [],
   "source": [
    "# Transfer Reaon_Against \n",
    "survey_data['Impossible_to_finance'] = survey_data['Reason_against'].str.contains('impossible')\n",
    "survey_data['Stop_working'] = survey_data['Reason_for'].str.contains('equality')\n",
    "survey_data['Foreigners'] = survey_data['Reason_for'].str.contains('Foreigners')\n",
    "survey_data['Against_principle'] = survey_data['Reason_for'].str.contains('principle')\n",
    "survey_data['Only_in_need'] = survey_data['Reason_for'].str.contains('need')\n",
    "survey_data['Increases_dependence'] = survey_data['Reason_for'].str.contains('dependence')\n",
    "survey_data['Just_against'] = survey_data['Reason_for'].str.contains('None')\n"
   ]
  },
  {
   "cell_type": "code",
   "execution_count": 26,
   "metadata": {},
   "outputs": [
    {
     "data": {
      "text/html": [
       "<div>\n",
       "<style scoped>\n",
       "    .dataframe tbody tr th:only-of-type {\n",
       "        vertical-align: middle;\n",
       "    }\n",
       "\n",
       "    .dataframe tbody tr th {\n",
       "        vertical-align: top;\n",
       "    }\n",
       "\n",
       "    .dataframe thead th {\n",
       "        text-align: right;\n",
       "    }\n",
       "</style>\n",
       "<table border=\"1\" class=\"dataframe\">\n",
       "  <thead>\n",
       "    <tr style=\"text-align: right;\">\n",
       "      <th></th>\n",
       "      <th>country_code</th>\n",
       "      <th>uuid</th>\n",
       "      <th>age</th>\n",
       "      <th>gender</th>\n",
       "      <th>City_or_Rural</th>\n",
       "      <th>Education_Level</th>\n",
       "      <th>Full_time_job_or_Not</th>\n",
       "      <th>Has_Children</th>\n",
       "      <th>Awareness</th>\n",
       "      <th>Vote</th>\n",
       "      <th>...</th>\n",
       "      <th>Reduces_bureaucracy</th>\n",
       "      <th>Increases_appreciation</th>\n",
       "      <th>Just_support</th>\n",
       "      <th>Impossible_to_finance</th>\n",
       "      <th>Stop_working</th>\n",
       "      <th>Foreigners</th>\n",
       "      <th>Against_principle</th>\n",
       "      <th>Only_in_need</th>\n",
       "      <th>Increases_dependence</th>\n",
       "      <th>Just_against</th>\n",
       "    </tr>\n",
       "  </thead>\n",
       "  <tbody>\n",
       "    <tr>\n",
       "      <th>0</th>\n",
       "      <td>AT</td>\n",
       "      <td>f6e7ee00-deac-0133-4de8-0a81e8b09a82</td>\n",
       "      <td>61</td>\n",
       "      <td>male</td>\n",
       "      <td>rural</td>\n",
       "      <td>no</td>\n",
       "      <td>no</td>\n",
       "      <td>no</td>\n",
       "      <td>something</td>\n",
       "      <td>no_action</td>\n",
       "      <td>...</td>\n",
       "      <td>False</td>\n",
       "      <td>False</td>\n",
       "      <td>True</td>\n",
       "      <td>False</td>\n",
       "      <td>False</td>\n",
       "      <td>False</td>\n",
       "      <td>False</td>\n",
       "      <td>False</td>\n",
       "      <td>False</td>\n",
       "      <td>True</td>\n",
       "    </tr>\n",
       "    <tr>\n",
       "      <th>1</th>\n",
       "      <td>AT</td>\n",
       "      <td>54f0f1c0-dda1-0133-a559-0a81e8b09a82</td>\n",
       "      <td>57</td>\n",
       "      <td>male</td>\n",
       "      <td>urban</td>\n",
       "      <td>high</td>\n",
       "      <td>yes</td>\n",
       "      <td>yes</td>\n",
       "      <td>fully</td>\n",
       "      <td>for</td>\n",
       "      <td>...</td>\n",
       "      <td>False</td>\n",
       "      <td>True</td>\n",
       "      <td>False</td>\n",
       "      <td>False</td>\n",
       "      <td>False</td>\n",
       "      <td>False</td>\n",
       "      <td>False</td>\n",
       "      <td>True</td>\n",
       "      <td>True</td>\n",
       "      <td>False</td>\n",
       "    </tr>\n",
       "    <tr>\n",
       "      <th>2</th>\n",
       "      <td>AT</td>\n",
       "      <td>83127080-da3d-0133-c74f-0a81e8b09a82</td>\n",
       "      <td>32</td>\n",
       "      <td>male</td>\n",
       "      <td>urban</td>\n",
       "      <td>no</td>\n",
       "      <td>no</td>\n",
       "      <td>no</td>\n",
       "      <td>a_little</td>\n",
       "      <td>no_action</td>\n",
       "      <td>...</td>\n",
       "      <td>False</td>\n",
       "      <td>False</td>\n",
       "      <td>False</td>\n",
       "      <td>False</td>\n",
       "      <td>True</td>\n",
       "      <td>False</td>\n",
       "      <td>False</td>\n",
       "      <td>False</td>\n",
       "      <td>False</td>\n",
       "      <td>False</td>\n",
       "    </tr>\n",
       "    <tr>\n",
       "      <th>3</th>\n",
       "      <td>AT</td>\n",
       "      <td>15626d40-db13-0133-ea5c-0a81e8b09a82</td>\n",
       "      <td>45</td>\n",
       "      <td>male</td>\n",
       "      <td>rural</td>\n",
       "      <td>high</td>\n",
       "      <td>yes</td>\n",
       "      <td>yes</td>\n",
       "      <td>a_little</td>\n",
       "      <td>for</td>\n",
       "      <td>...</td>\n",
       "      <td>False</td>\n",
       "      <td>False</td>\n",
       "      <td>False</td>\n",
       "      <td>False</td>\n",
       "      <td>False</td>\n",
       "      <td>False</td>\n",
       "      <td>False</td>\n",
       "      <td>True</td>\n",
       "      <td>False</td>\n",
       "      <td>False</td>\n",
       "    </tr>\n",
       "    <tr>\n",
       "      <th>4</th>\n",
       "      <td>AT</td>\n",
       "      <td>24954a70-db98-0133-4a64-0a81e8b09a82</td>\n",
       "      <td>41</td>\n",
       "      <td>female</td>\n",
       "      <td>urban</td>\n",
       "      <td>high</td>\n",
       "      <td>yes</td>\n",
       "      <td>yes</td>\n",
       "      <td>a_little</td>\n",
       "      <td>for</td>\n",
       "      <td>...</td>\n",
       "      <td>False</td>\n",
       "      <td>False</td>\n",
       "      <td>False</td>\n",
       "      <td>True</td>\n",
       "      <td>False</td>\n",
       "      <td>False</td>\n",
       "      <td>False</td>\n",
       "      <td>True</td>\n",
       "      <td>False</td>\n",
       "      <td>False</td>\n",
       "    </tr>\n",
       "  </tbody>\n",
       "</table>\n",
       "<p>5 rows × 29 columns</p>\n",
       "</div>"
      ],
      "text/plain": [
       "  country_code                                  uuid  age  gender  \\\n",
       "0           AT  f6e7ee00-deac-0133-4de8-0a81e8b09a82   61    male   \n",
       "1           AT  54f0f1c0-dda1-0133-a559-0a81e8b09a82   57    male   \n",
       "2           AT  83127080-da3d-0133-c74f-0a81e8b09a82   32    male   \n",
       "3           AT  15626d40-db13-0133-ea5c-0a81e8b09a82   45    male   \n",
       "4           AT  24954a70-db98-0133-4a64-0a81e8b09a82   41  female   \n",
       "\n",
       "  City_or_Rural Education_Level Full_time_job_or_Not Has_Children  Awareness  \\\n",
       "0         rural              no                   no           no  something   \n",
       "1         urban            high                  yes          yes      fully   \n",
       "2         urban              no                   no           no   a_little   \n",
       "3         rural            high                  yes          yes   a_little   \n",
       "4         urban            high                  yes          yes   a_little   \n",
       "\n",
       "        Vote  ... Reduces_bureaucracy Increases_appreciation Just_support  \\\n",
       "0  no_action  ...               False                  False         True   \n",
       "1        for  ...               False                   True        False   \n",
       "2  no_action  ...               False                  False        False   \n",
       "3        for  ...               False                  False        False   \n",
       "4        for  ...               False                  False        False   \n",
       "\n",
       "  Impossible_to_finance Stop_working  Foreigners  Against_principle  \\\n",
       "0                 False        False       False              False   \n",
       "1                 False        False       False              False   \n",
       "2                 False         True       False              False   \n",
       "3                 False        False       False              False   \n",
       "4                  True        False       False              False   \n",
       "\n",
       "   Only_in_need  Increases_dependence  Just_against  \n",
       "0         False                 False          True  \n",
       "1          True                  True         False  \n",
       "2         False                 False         False  \n",
       "3          True                 False         False  \n",
       "4          True                 False         False  \n",
       "\n",
       "[5 rows x 29 columns]"
      ]
     },
     "execution_count": 26,
     "metadata": {},
     "output_type": "execute_result"
    }
   ],
   "source": [
    "survey_data.head()  #Check the data"
   ]
  },
  {
   "cell_type": "markdown",
   "metadata": {},
   "source": [
    "### 2.3 Data visualization"
   ]
  },
  {
   "cell_type": "markdown",
   "metadata": {},
   "source": [
    "First of all, this study is interested in the public voting results."
   ]
  },
  {
   "cell_type": "code",
   "execution_count": 27,
   "metadata": {},
   "outputs": [
    {
     "data": {
      "image/png": "[encoded data removed]",
      "text/plain": [
       "<Figure size 432x288 with 1 Axes>"
      ]
     },
     "metadata": {
      "needs_background": "light"
     },
     "output_type": "display_data"
    }
   ],
   "source": [
    "import random\n",
    "n = survey_data['Vote'].unique().__len__()+1\n",
    "\n",
    "all_colors = list(plt.cm.colors.cnames.keys())\n",
    "random.seed(100)\n",
    "c = random.choices(all_colors, k=n)\n",
    "\n",
    "survey_data['Vote'].value_counts().plot.barh(color = c)\n",
    "plt.title('Figure 1.Public Voting Results')\n",
    "plt.xlabel('Numbers')\n",
    "plt.ylabel('Opinions')\n",
    "plt.show()"
   ]
  },
  {
   "cell_type": "markdown",
   "metadata": {},
   "source": [
    "According to figure 1, more than 6,000 respondents in the EU support the basic income policy, far exceeding the number of opposed and unsentimental."
   ]
  },
  {
   "cell_type": "markdown",
   "metadata": {},
   "source": [
    "Then, this research continues to study the relationship between the voting results and different factors, such as country, gender, etc. As an important spatial factor, the relationship between voting results and countries is displayed in the form of a histogram."
   ]
  },
  {
   "cell_type": "code",
   "execution_count": 28,
   "metadata": {},
   "outputs": [
    {
     "data": {
      "text/plain": [
       "DE    1420\n",
       "FR    1248\n",
       "GB    1199\n",
       "IT    1138\n",
       "ES    1005\n",
       "PL     860\n",
       "RO     332\n",
       "NL     331\n",
       "GR     225\n",
       "HU     206\n",
       "PT     202\n",
       "CZ     189\n",
       "BE     179\n",
       "SE     175\n",
       "BG     141\n",
       "AT     133\n",
       "DK     119\n",
       "FI     113\n",
       "SK      93\n",
       "IE      90\n",
       "HR      87\n",
       "LT      50\n",
       "LV      36\n",
       "SI      28\n",
       "EE      18\n",
       "CY      13\n",
       "LU      11\n",
       "MT       8\n",
       "Name: country_code, dtype: int64"
      ]
     },
     "execution_count": 28,
     "metadata": {},
     "output_type": "execute_result"
    }
   ],
   "source": [
    "survey_data.country_code.value_counts()"
   ]
  },
  {
   "cell_type": "code",
   "execution_count": 29,
   "metadata": {},
   "outputs": [
    {
     "data": {
      "image/png": "[encoded data removed]",
      "text/plain": [
       "<Figure size 1280x720 with 1 Axes>"
      ]
     },
     "metadata": {
      "needs_background": "light"
     },
     "output_type": "display_data"
    }
   ],
   "source": [
    "#Code comes from :\n",
    "#https://www.machinelearningplus.com/plots/top-50-matplotlib-visualizations-the-master-plots-python/\n",
    "\n",
    "# Prepare data\n",
    "x_var = 'country_code'\n",
    "groupby_var = 'Vote'\n",
    "survey_data_agg = survey_data.loc[:, [x_var, groupby_var]].groupby(groupby_var)\n",
    "vals = [survey_data[x_var].values.tolist() for i, survey_data in survey_data_agg]\n",
    "\n",
    "# Draw\n",
    "plt.figure(figsize=(16,9), dpi= 80)\n",
    "colors = [plt.cm.Spectral(i/float(len(vals)-1)) for i in range(len(vals))]\n",
    "n, bins, patches = plt.hist(vals, survey_data[x_var].unique().__len__(), stacked=True, density=False, color=colors[:len(vals)])\n",
    "\n",
    "# Decoration\n",
    "plt.legend({group:col for group, col in zip(np.unique(survey_data[groupby_var]).tolist(), colors[:len(vals)])})\n",
    "plt.title(f\"Figure 2.Stacked Histogram of country_code colored by ${groupby_var}$\", fontsize=22)\n",
    "plt.xlabel(x_var)\n",
    "plt.ylabel(\"Numbers\")\n",
    "plt.ylim(0, 1500)\n",
    "plt.xticks(ticks=bins, labels=np.unique(survey_data[x_var]).tolist(), rotation=20, horizontalalignment='left')\n",
    "plt.show()"
   ]
  },
  {
   "cell_type": "markdown",
   "metadata": {},
   "source": [
    "According to figure 2, in almost all countries, the number of people who support the implementation of basic income was greater than the opponents. However, the numbers of participants from different countries vary significantly. As shown in the figure, most participants were from Denmark, France, and Great Britain, while only a few of them came from Luxembourg, Estonia, and Malta. From Figure 3 to 6 below, it can be found that there is not much difference in voting in factors. For example, men and women, people with a full-time job or not are all showing similar voting patterns. One significant difference lies in education level, namely people who have not received education obviously show no attitude towards basic income."
   ]
  },
  {
   "cell_type": "code",
   "execution_count": 30,
   "metadata": {},
   "outputs": [
    {
     "data": {
      "image/png": "[encoded data removed]",
      "text/plain": [
       "<Figure size 504x288 with 1 Axes>"
      ]
     },
     "metadata": {},
     "output_type": "display_data"
    }
   ],
   "source": [
    "sns.set(style=\"whitegrid\")\n",
    "Gender_data = survey_data.groupby('gender')['Vote'].value_counts(normalize=True).unstack()\n",
    "Gender_data.plot(kind='bar', figsize=(7,4))\n",
    "plt.xlabel(\"Vote reuslts with gender\")\n",
    "plt.xticks(rotation=0)\n",
    "plt.ylabel(\"Percentage of Voters\\n\")\n",
    "plt.title('\\nFigure 3.Vote depending on male and female\\n', fontsize=14, fontweight='bold')\n",
    "plt.legend(bbox_to_anchor=(1.5, 1.0), title='Vote');"
   ]
  },
  {
   "cell_type": "code",
   "execution_count": 31,
   "metadata": {},
   "outputs": [
    {
     "data": {
      "image/png": "[encoded data removed]",
      "text/plain": [
       "<Figure size 504x288 with 1 Axes>"
      ]
     },
     "metadata": {},
     "output_type": "display_data"
    }
   ],
   "source": [
    "Educational_data = survey_data.groupby('Education_Level')['Vote'].value_counts(normalize=True).unstack()\n",
    "Educational_data.plot(kind='bar', figsize=(7,4))\n",
    "plt.xlabel(\"Vote reuslts with Education Level\")\n",
    "plt.xticks(rotation=0)\n",
    "plt.ylabel(\"Percentage of Voters\\n\")\n",
    "plt.title('\\nFigure 4.Vote depending on Education Level\\n', fontsize=14, fontweight='bold')\n",
    "plt.legend(bbox_to_anchor=(1.5, 1.0), title='Vote');"
   ]
  },
  {
   "cell_type": "code",
   "execution_count": 32,
   "metadata": {},
   "outputs": [
    {
     "data": {
      "image/png": "[encoded data removed]",
      "text/plain": [
       "<Figure size 504x288 with 1 Axes>"
      ]
     },
     "metadata": {},
     "output_type": "display_data"
    }
   ],
   "source": [
    "Job_Type_data = survey_data.groupby('Full_time_job_or_Not')['Vote'].value_counts(normalize=True).unstack()\n",
    "Job_Type_data.plot(kind='bar', figsize=(7,4))\n",
    "plt.xlabel(\"Vote reuslts with Job Type\")\n",
    "plt.xticks(rotation=0)\n",
    "plt.ylabel(\"Percentage of Voters\\n\")\n",
    "plt.title('\\nFigure 5.Vote depending on having a full-time-job\\n', fontsize=14, fontweight='bold')\n",
    "plt.legend(bbox_to_anchor=(1.5, 1.0), title='Vote');"
   ]
  },
  {
   "cell_type": "code",
   "execution_count": 33,
   "metadata": {},
   "outputs": [
    {
     "data": {
      "image/png": "[encoded data removed]",
      "text/plain": [
       "<Figure size 504x288 with 1 Axes>"
      ]
     },
     "metadata": {},
     "output_type": "display_data"
    }
   ],
   "source": [
    "family_data = survey_data.groupby('Has_Children')['Vote'].value_counts(normalize=True).unstack()\n",
    "family_data.plot(kind='bar', figsize=(7,4))\n",
    "plt.xlabel(\"Vote reuslts with having children or not\")\n",
    "plt.xticks(rotation=0)\n",
    "plt.ylabel(\"Percentage of Voters\\n\")\n",
    "plt.title('\\nFigure 6.Vote depending on having children or not\\n', fontsize=14, fontweight='bold')\n",
    "plt.legend(bbox_to_anchor=(1.5, 1.0), title='Vote');"
   ]
  },
  {
   "cell_type": "code",
   "execution_count": 34,
   "metadata": {},
   "outputs": [
    {
     "data": {
      "image/png": "[encoded data removed]",
      "text/plain": [
       "<Figure size 960x720 with 1 Axes>"
      ]
     },
     "metadata": {},
     "output_type": "display_data"
    }
   ],
   "source": [
    "#Code comes from :\n",
    "#https://www.machinelearningplus.com/plots/top-50-matplotlib-visualizations-the-master-plots-python/\n",
    "\n",
    "# Draw Plot\n",
    "fig, ax = plt.subplots(figsize=(12, 9), subplot_kw=dict(aspect=\"equal\"), dpi= 80)\n",
    "\n",
    "data = survey_data['Effect'].value_counts()\n",
    "categories = ['no_effect','more_family_time', 'none_of_the_above', \n",
    "              'gain_additional_skills','change_a_job',\n",
    "              'work_less', 'more_volunteering_work','freelancer','stop_working']\n",
    "explode = [0.05,0,0,0,0,0.1,0,0,0.1]\n",
    "\n",
    "def func(pct, allvals):\n",
    "    absolute = int(pct/100.*np.sum(allvals))\n",
    "    return \"{:.1f}% ({:d} )\".format(pct, absolute)\n",
    "\n",
    "wedges, texts, autotexts = ax.pie(data,\n",
    "                                  autopct=lambda pct: func(pct, data),\n",
    "                                  textprops=dict(color=\"w\"),\n",
    "                                  colors=plt.cm.Paired.colors,\n",
    "                                 startangle=140,\n",
    "                                 explode=explode)\n",
    "\n",
    "# Decoration\n",
    "ax.legend(wedges, categories, title=\"Effect\", loc=\"center left\", bbox_to_anchor=(1, 0, 0.5, 1))\n",
    "plt.setp(autotexts, size=7, weight=800)\n",
    "ax.set_title(\"Figure 7. Effect: Pie Chart\")\n",
    "plt.show()"
   ]
  },
  {
   "cell_type": "markdown",
   "metadata": {},
   "source": [
    "Besides that, Figure 7 shows people’s attitude on the impact of BI on work. 33% of respondents believed BI may have no impact, while 10% of people believe that they can retire and do not have to work hard with BI, and this may have a negative influence on economic activities. Meanwhile, 30% of respondents BI and reduced work time mean that they can spend more time on their families or do more volunteers, which is positive to social stability.\n",
    "\n",
    "Then this report analyses the age group of interviewees. Histograms and normal distributions are used in this part."
   ]
  },
  {
   "cell_type": "code",
   "execution_count": 35,
   "metadata": {},
   "outputs": [
    {
     "data": {
      "text/plain": [
       "37.71271634366256"
      ]
     },
     "execution_count": 35,
     "metadata": {},
     "output_type": "execute_result"
    }
   ],
   "source": [
    "# mean value of age\n",
    "age = survey_data['age']\n",
    "mean = age.mean()\n",
    "std = age.std()\n",
    "mean"
   ]
  },
  {
   "cell_type": "code",
   "execution_count": 36,
   "metadata": {},
   "outputs": [
    {
     "data": {
      "text/plain": [
       "12.270630450495897"
      ]
     },
     "execution_count": 36,
     "metadata": {},
     "output_type": "execute_result"
    }
   ],
   "source": [
    "std # # Std value of age\n"
   ]
  },
  {
   "cell_type": "code",
   "execution_count": 37,
   "metadata": {},
   "outputs": [],
   "source": [
    "#normfun: Normal distribution，mu: mean，sigma: std，\n",
    "#pdf:Probability density function，np.exp():Probability density function formula\n",
    "def normfun(x,mu, sigma):\n",
    "    pdf = np.exp(-((x - mu)**2) / (2* sigma**2)) / (sigma * np.sqrt(2*np.pi))\n",
    "    return pdf"
   ]
  },
  {
   "cell_type": "code",
   "execution_count": 38,
   "metadata": {},
   "outputs": [
    {
     "name": "stderr",
     "output_type": "stream",
     "text": [
      "//anaconda3/lib/python3.7/site-packages/ipykernel_launcher.py:12: MatplotlibDeprecationWarning: \n",
      "The 'normed' kwarg was deprecated in Matplotlib 2.1 and will be removed in 3.1. Use 'density' instead.\n",
      "  if sys.path[0] == '':\n"
     ]
    },
    {
     "data": {
      "image/png": "[encoded data removed]",
      "text/plain": [
       "<Figure size 432x288 with 1 Axes>"
      ]
     },
     "metadata": {},
     "output_type": "display_data"
    }
   ],
   "source": [
    "#The range of x is 0-70, in units of 1, \n",
    "#x needs to be adjusted according to the range\n",
    "x = np.arange(0, 70,1)\n",
    "\n",
    "# Probability density corresponding to x \n",
    "y = normfun(x, mean, std)\n",
    "\n",
    "# Parameter, color, line width\n",
    "plt.plot(x,y, color='g',linewidth = 3)\n",
    "\n",
    "#Data, color, group width, display frequency\n",
    "plt.hist(age, bins =7, color = 'r',alpha=0.5,rwidth= 0.9, normed=True)\n",
    "\n",
    "plt.title('Figure 8. Normal Distribution of Age')\n",
    "plt.xlabel('Age')\n",
    "plt.ylabel('Probability')\n",
    "plt.show()"
   ]
  },
  {
   "cell_type": "code",
   "execution_count": 39,
   "metadata": {},
   "outputs": [
    {
     "data": {
      "image/png": "[encoded data removed]",
      "text/plain": [
       "<Figure size 432x288 with 1 Axes>"
      ]
     },
     "metadata": {},
     "output_type": "display_data"
    }
   ],
   "source": [
    "survey_data['age_group'].value_counts().plot.bar(color = 'r')\n",
    "plt.title('Figure 9. Histograms of Age Group')\n",
    "plt.xlabel('Age Group')\n",
    "plt.ylabel('Number')\n",
    "plt.show()"
   ]
  },
  {
   "cell_type": "markdown",
   "metadata": {},
   "source": [
    "Figure 8 reveals that the majority of respondents were at their 40s. Figure 9 also proves that there were more than 5000 people in the 40-65 group. However, the original questionnaire for age was not scientific. To solve this problem, age groups were divided according to the distribution of IQR in this study."
   ]
  },
  {
   "cell_type": "code",
   "execution_count": 40,
   "metadata": {},
   "outputs": [
    {
     "data": {
      "text/plain": [
       "count                                 9,649.0000\n",
       "mean                                     37.7127\n",
       "std                                      12.2706\n",
       "min                                      14.0000\n",
       "25%                                      28.0000\n",
       "50%                                      40.0000\n",
       "75%                                      46.0000\n",
       "max                                      65.0000\n",
       "Name: age, dtype: float64"
      ]
     },
     "execution_count": 40,
     "metadata": {},
     "output_type": "execute_result"
    }
   ],
   "source": [
    "survey_data['age'].describe().T"
   ]
  },
  {
   "cell_type": "code",
   "execution_count": 41,
   "metadata": {},
   "outputs": [],
   "source": [
    "# Remove the orginal age group\n",
    "survey_data.drop(['age_group'], axis=1, inplace=True)"
   ]
  },
  {
   "cell_type": "code",
   "execution_count": 42,
   "metadata": {},
   "outputs": [],
   "source": [
    "# define new age group\n",
    "def age_groups(row):\n",
    "    if row <= 28: return('14_28')\n",
    "    elif row <= 40: return('28_40')\n",
    "    elif row <= 46: return('40_46')\n",
    "    else: return('above_46')\n",
    "    \n",
    "survey_data['age_group'] = survey_data['age'].apply(age_groups)\n",
    "survey_data.drop(['age'], axis=1, inplace=True)"
   ]
  },
  {
   "cell_type": "code",
   "execution_count": 43,
   "metadata": {},
   "outputs": [
    {
     "data": {
      "image/png": "[encoded data removed]",
      "text/plain": [
       "<Figure size 432x288 with 1 Axes>"
      ]
     },
     "metadata": {},
     "output_type": "display_data"
    }
   ],
   "source": [
    "# Plot new age group\n",
    "\n",
    "survey_data['age_group'].value_counts().plot.bar(color='orange')\n",
    "plt.title('Figure 10. Histograms of New Age Group')\n",
    "plt.xlabel('Age Group')\n",
    "plt.ylabel('Number')\n",
    "plt.show()"
   ]
  },
  {
   "cell_type": "markdown",
   "metadata": {},
   "source": [
    "The number of people in each age group is more balanced than before."
   ]
  },
  {
   "cell_type": "markdown",
   "metadata": {},
   "source": [
    "# 3.Methodlogy"
   ]
  },
  {
   "cell_type": "markdown",
   "metadata": {},
   "source": [
    "Four Classification Models are used in this work for attitudes prediction. Besides that, `GridSearchCV` has been used because it is able to determine some parameters to enhance the fitting ability of the model. "
   ]
  },
  {
   "cell_type": "markdown",
   "metadata": {},
   "source": [
    "## 3.1 Logistic Regression"
   ]
  },
  {
   "cell_type": "markdown",
   "metadata": {},
   "source": [
    "Public attitude, the variable, is regarded as a binary variable commonly, such as support or not. For the prediction of such variable, Logistic Regression (LR) is a widely applied statistical technique of choice when developing new models and testing existing instruments (Hosmer et al., 2013). LR is able to estimate the probability of a certain event occurring by applying maximum likelihood estimation after transforming the dependent into a logit variable (Liu et al., 2011). Therefore, LR is used to classify individuals in the target categories based on the logistic function."
   ]
  },
  {
   "cell_type": "markdown",
   "metadata": {},
   "source": [
    "## 3.2 Decision Tree"
   ]
  },
  {
   "cell_type": "markdown",
   "metadata": {},
   "source": [
    "The Decision Tree model (DT), developed by Breiman et al. (1984), is a questions-decision tree model. It asks several questions and makes the final decision based on the answers from previous questions. While DT has different series, such as Classification and Regression Tree (CART) (Breiman et al. 1984), Chi-squared and Interactive Decision (CHAID), and Decision Tree Forests (also Random Forest) (Liu et al, 2011), CART model is chosen in this project because different segmentation points for each attribute can be taken into account. While CART can only generate binary trees (Alawad, 2018), it CART still has its strength as it could look for the best (attribute, value) pair as a splitting point, rather than the best properties only. As Bakhshayeshian and Khalili (2015) said, another strength of CART is that it uses the Gini index as a splitting criterion, so CART is chosen for the ability to handle missing values and accepting both categorical and continues features."
   ]
  },
  {
   "cell_type": "markdown",
   "metadata": {},
   "source": [
    "## 3.3 Random Forest Classifier"
   ]
  },
  {
   "cell_type": "markdown",
   "metadata": {},
   "source": [
    "Random Forest Classifier, a machine‐learning algorithm based on tree ensembles by Breiman (2001), have been proven to be very popular and powerful techniques in the pattern recognition for high-dimensional classification and skewed problems. Thus, it is used in this project. "
   ]
  },
  {
   "cell_type": "markdown",
   "metadata": {},
   "source": [
    "## 3.4 Support Vector Machines"
   ]
  },
  {
   "cell_type": "markdown",
   "metadata": {},
   "source": [
    "The last method used is the Support vector machine, which is also a statistical and machine learning technology with the main goal of prediction. Moreover, SVM is a relatively new type of classifier, with the key advantage of constructing classification models very quickly, especially for megavariate data (Harrington, 2015)."
   ]
  },
  {
   "cell_type": "markdown",
   "metadata": {},
   "source": [
    "# 4. Results and Discussion"
   ]
  },
  {
   "cell_type": "markdown",
   "metadata": {},
   "source": [
    "## 4.1 Data Transformation"
   ]
  },
  {
   "cell_type": "markdown",
   "metadata": {},
   "source": [
    "The process of transforming data includes the following steps:\n",
    "1.\tSplit the survey_data into two datasets corresponding to predictors `feature_data` and the response variable `y`;\n",
    "2.\tTransform strings in the response variable into numeric forms, which is applicable in the analysis process;\n",
    "3.\tTransform strings in the predictors into binary values using one-hot encoding;\n",
    "4.\tSplit the datasets into the training set and the testing set."
   ]
  },
  {
   "cell_type": "markdown",
   "metadata": {},
   "source": [
    "At first, useless columns are removed. Since this study aims to figure out whether the respondent supports it or not, the option of `no_action` has also been removed. "
   ]
  },
  {
   "cell_type": "code",
   "execution_count": 44,
   "metadata": {},
   "outputs": [],
   "source": [
    "# Drop the column we don't need \n",
    "survey_data.drop(['uuid', 'weight','Reason_for','Reason_against'], axis=1, inplace=True)"
   ]
  },
  {
   "cell_type": "code",
   "execution_count": 45,
   "metadata": {},
   "outputs": [
    {
     "data": {
      "text/plain": [
       "(9649, 24)"
      ]
     },
     "execution_count": 45,
     "metadata": {},
     "output_type": "execute_result"
    }
   ],
   "source": [
    "survey_data.shape"
   ]
  },
  {
   "cell_type": "code",
   "execution_count": 46,
   "metadata": {},
   "outputs": [],
   "source": [
    "# remove those attitudes no positve or negative\n",
    "survey_data = survey_data.query(\"Vote != 'no_action'\")"
   ]
  },
  {
   "cell_type": "code",
   "execution_count": 47,
   "metadata": {},
   "outputs": [
    {
     "data": {
      "text/plain": [
       "(8490, 24)"
      ]
     },
     "execution_count": 47,
     "metadata": {},
     "output_type": "execute_result"
    }
   ],
   "source": [
    "survey_data.shape"
   ]
  },
  {
   "cell_type": "code",
   "execution_count": 48,
   "metadata": {},
   "outputs": [],
   "source": [
    "# feature_data and y dataset\n",
    "feature_data = survey_data.drop('Vote', axis=1)\n",
    "y = survey_data['Vote']"
   ]
  },
  {
   "cell_type": "code",
   "execution_count": 49,
   "metadata": {},
   "outputs": [
    {
     "data": {
      "text/plain": [
       "for        6091\n",
       "against    2399\n",
       "Name: Vote, dtype: int64"
      ]
     },
     "execution_count": 49,
     "metadata": {},
     "output_type": "execute_result"
    }
   ],
   "source": [
    "# inspect the variable of Vote\n",
    "survey_data['Vote'].value_counts()"
   ]
  },
  {
   "cell_type": "code",
   "execution_count": 50,
   "metadata": {},
   "outputs": [],
   "source": [
    "from sklearn.preprocessing import LabelEncoder"
   ]
  },
  {
   "cell_type": "code",
   "execution_count": 51,
   "metadata": {},
   "outputs": [],
   "source": [
    "le = LabelEncoder() # creates the LabelEncoder object\n",
    "le.fit(['for','against']) # this gives you control on the order. Here, 'against' and 'for' would be encoded as 0 and 1 respectively.\n",
    "labels_fea = le.transform(survey_data['Vote']) # runs LabelEncoder on the Vote column"
   ]
  },
  {
   "cell_type": "code",
   "execution_count": 52,
   "metadata": {},
   "outputs": [
    {
     "data": {
      "text/plain": [
       "1    6091\n",
       "0    2399\n",
       "dtype: int64"
      ]
     },
     "execution_count": 52,
     "metadata": {},
     "output_type": "execute_result"
    }
   ],
   "source": [
    "# again, inspect the result. Note that labels_fea is of the type 'ndarray' rahter than pd.Series or pd.DataFrame\n",
    "pd.Series(labels_fea).value_counts()"
   ]
  },
  {
   "cell_type": "code",
   "execution_count": 53,
   "metadata": {},
   "outputs": [],
   "source": [
    "from sklearn.feature_extraction import DictVectorizer"
   ]
  },
  {
   "cell_type": "code",
   "execution_count": 54,
   "metadata": {},
   "outputs": [
    {
     "name": "stdout",
     "output_type": "stream",
     "text": [
      "{'country_code': 'AT', 'gender': 'male', 'City_or_Rural': 'rural', 'Education_Level': 'high', 'Full_time_job_or_Not': 'yes', 'Has_Children': 'yes', 'Awareness': 'a_little', 'Effect': 'work_less', 'Reduce_anxiety': True, 'Create_more_equality': False, 'Encourages_fin_independence&self-respon': False, 'Increases_solidarity': False, 'Reduces_bureaucracy': False, 'Increases_appreciation': False, 'Just_support': False, 'Impossible_to_finance': False, 'Stop_working': False, 'Foreigners': False, 'Against_principle': False, 'Only_in_need': True, 'Increases_dependence': False, 'Just_against': False, 'age_group': '40_46'}\n"
     ]
    }
   ],
   "source": [
    "#create the dictionaries, and  check the first entry.\n",
    "data_dict = feature_data.to_dict('record')\n",
    "print(data_dict[1])"
   ]
  },
  {
   "cell_type": "code",
   "execution_count": 55,
   "metadata": {},
   "outputs": [],
   "source": [
    "vec = DictVectorizer()  # create the DictVectorizer object\n",
    "data_mat = vec.fit_transform(data_dict)  # execute process on the record dictionaries"
   ]
  },
  {
   "cell_type": "code",
   "execution_count": 56,
   "metadata": {},
   "outputs": [
    {
     "data": {
      "text/plain": [
       "<8490x71 sparse matrix of type '<class 'numpy.float64'>'\n",
       "\twith 195270 stored elements in Compressed Sparse Row format>"
      ]
     },
     "execution_count": 56,
     "metadata": {},
     "output_type": "execute_result"
    }
   ],
   "source": [
    "data_mat"
   ]
  },
  {
   "cell_type": "code",
   "execution_count": 57,
   "metadata": {},
   "outputs": [
    {
     "name": "stdout",
     "output_type": "stream",
     "text": [
      "(8490, 71)\n",
      "<class 'scipy.sparse.csr.csr_matrix'>\n"
     ]
    },
    {
     "data": {
      "text/plain": [
       "<8490x71 sparse matrix of type '<class 'numpy.float64'>'\n",
       "\twith 195270 stored elements in Compressed Sparse Row format>"
      ]
     },
     "execution_count": 57,
     "metadata": {},
     "output_type": "execute_result"
    }
   ],
   "source": [
    "print(data_mat.shape)\n",
    "print(type(data_mat))\n",
    "data_mat"
   ]
  },
  {
   "cell_type": "code",
   "execution_count": 58,
   "metadata": {},
   "outputs": [
    {
     "name": "stdout",
     "output_type": "stream",
     "text": [
      "(8490, 71)\n",
      "<class 'numpy.ndarray'>\n"
     ]
    },
    {
     "data": {
      "text/plain": [
       "array([[0., 0., 1., ..., 0., 0., 1.],\n",
       "       [0., 1., 0., ..., 0., 0., 1.],\n",
       "       [0., 1., 0., ..., 0., 1., 0.],\n",
       "       ...,\n",
       "       [0., 0., 0., ..., 1., 0., 1.],\n",
       "       [0., 0., 1., ..., 1., 0., 1.],\n",
       "       [0., 0., 1., ..., 1., 1., 0.]])"
      ]
     },
     "execution_count": 58,
     "metadata": {},
     "output_type": "execute_result"
    }
   ],
   "source": [
    "# convert the matrix into an array\n",
    "data_array = data_mat.toarray() \n",
    "print(data_array.shape)\n",
    "print(type(data_array))\n",
    "data_array"
   ]
  },
  {
   "cell_type": "markdown",
   "metadata": {},
   "source": [
    "The final stage in data transformation involves splitting the prepared dataset into the subset training and the testing subset. The training data is then used to create the classifier. The testing data is then applied when testing the accuracy of the classification."
   ]
  },
  {
   "cell_type": "code",
   "execution_count": 59,
   "metadata": {},
   "outputs": [],
   "source": [
    "from sklearn.model_selection import train_test_split"
   ]
  },
  {
   "cell_type": "code",
   "execution_count": 60,
   "metadata": {},
   "outputs": [],
   "source": [
    "train_d, test_d, train_lab, test_lab = train_test_split(data_array, labels_fea) #split data to train and test"
   ]
  },
  {
   "cell_type": "code",
   "execution_count": 61,
   "metadata": {},
   "outputs": [
    {
     "name": "stdout",
     "output_type": "stream",
     "text": [
      "(6367, 71)\n",
      "(2123, 71)\n"
     ]
    }
   ],
   "source": [
    "print(train_d.shape)\n",
    "print(test_d.shape)"
   ]
  },
  {
   "cell_type": "markdown",
   "metadata": {},
   "source": [
    "## 4.2 Results with Imbalanced Data"
   ]
  },
  {
   "cell_type": "markdown",
   "metadata": {},
   "source": [
    "### 4.2.1 Logistic Regression"
   ]
  },
  {
   "cell_type": "code",
   "execution_count": 62,
   "metadata": {},
   "outputs": [
    {
     "name": "stdout",
     "output_type": "stream",
     "text": [
      "Best parameters:\n",
      "{'max_iter': 1000.0}\n"
     ]
    }
   ],
   "source": [
    "from sklearn.linear_model import LogisticRegression\n",
    "from sklearn.model_selection import GridSearchCV\n",
    "import warnings\n",
    "warnings.filterwarnings(\"ignore\")\n",
    "\n",
    "# Set parameter\n",
    "params_test1 = {'max_iter':[10e2,10e3,10e4,10e5,10e6,10e7]}\n",
    "lr = LogisticRegression()\n",
    "clf = GridSearchCV(lr, param_grid=params_test1, cv=10)\n",
    "clf.fit(data_array,labels_fea)\n",
    "\n",
    "print('Best parameters:')\n",
    "print(clf.best_params_)"
   ]
  },
  {
   "cell_type": "code",
   "execution_count": 63,
   "metadata": {},
   "outputs": [],
   "source": [
    "#train model\n",
    "# max_iter is 10^3 as shown\n",
    "clf_logit_reg = LogisticRegression(max_iter=10e3).fit(train_d, train_lab)"
   ]
  },
  {
   "cell_type": "code",
   "execution_count": 64,
   "metadata": {},
   "outputs": [
    {
     "data": {
      "text/plain": [
       "0.7870937352802638"
      ]
     },
     "execution_count": 64,
     "metadata": {},
     "output_type": "execute_result"
    }
   ],
   "source": [
    "clf_logit_reg.score(test_d, test_lab)"
   ]
  },
  {
   "cell_type": "code",
   "execution_count": 65,
   "metadata": {},
   "outputs": [
    {
     "name": "stdout",
     "output_type": "stream",
     "text": [
      "Table 1.Classification Report Logistic Regression: \n",
      "               precision    recall  f1-score   support\n",
      "\n",
      "           0       0.70      0.47      0.57       622\n",
      "           1       0.81      0.92      0.86      1501\n",
      "\n",
      "    accuracy                           0.79      2123\n",
      "   macro avg       0.76      0.70      0.71      2123\n",
      "weighted avg       0.78      0.79      0.77      2123\n",
      "\n"
     ]
    }
   ],
   "source": [
    "# test the model using the testing data \n",
    "\n",
    "from sklearn import metrics\n",
    "\n",
    "test_pred_logit_reg = clf_logit_reg.predict(test_d)\n",
    "print ('Table 1.Classification Report Logistic Regression: \\n',metrics.classification_report(test_lab, test_pred_logit_reg))\n"
   ]
  },
  {
   "cell_type": "markdown",
   "metadata": {},
   "source": [
    "According to the score of Logistic Regression, the classifier seems to do pretty well, which means this method is able to predict the vote results with an expected accuracy of 80%. However, table 1 shows that the classifier performs poorly in identifying individuals who are voting against basic income with a low recall score of 0.49 and the f1-score of 0.57. This means that the classifier could identify no more than 50 of them if 100 EU respondents are given."
   ]
  },
  {
   "cell_type": "markdown",
   "metadata": {},
   "source": [
    "### 4.2.2 Decision Tree"
   ]
  },
  {
   "cell_type": "code",
   "execution_count": 66,
   "metadata": {},
   "outputs": [
    {
     "name": "stdout",
     "output_type": "stream",
     "text": [
      "Best parameters:\n",
      "{'max_depth': 10, 'min_samples_leaf': 7, 'min_samples_split': 2}\n"
     ]
    }
   ],
   "source": [
    "from sklearn.tree import DecisionTreeClassifier\n",
    "\n",
    "# Set parameter\n",
    "params_test2 = {'max_depth':np.arange(10, 20),\n",
    "          'min_samples_leaf':np.arange(1, 8),\n",
    "          'min_samples_split':np.arange(2, 8)\n",
    "         }\n",
    "rfc = DecisionTreeClassifier()\n",
    "clf = GridSearchCV(rfc, param_grid=params_test2, cv=10)\n",
    "clf.fit(data_array,labels_fea)\n",
    "\n",
    "print('Best parameters:')\n",
    "print(clf.best_params_)"
   ]
  },
  {
   "cell_type": "code",
   "execution_count": 67,
   "metadata": {},
   "outputs": [],
   "source": [
    "#train model\n",
    "clf_decision_tree = DecisionTreeClassifier(max_depth=10,min_samples_leaf=7,min_samples_split=4)  # creates the kNN classifier, setting it to check the 60 neighbouring points\n",
    "clf_decision_tree.fit(train_d, train_lab)\n",
    "test_pred_decision_tree = clf_decision_tree.predict(test_d)"
   ]
  },
  {
   "cell_type": "code",
   "execution_count": 68,
   "metadata": {},
   "outputs": [
    {
     "name": "stdout",
     "output_type": "stream",
     "text": [
      "Table 2.Classification Report Decision Tree: \n",
      "               precision    recall  f1-score   support\n",
      "\n",
      "           0       0.65      0.44      0.52       622\n",
      "           1       0.79      0.90      0.84      1501\n",
      "\n",
      "    accuracy                           0.77      2123\n",
      "   macro avg       0.72      0.67      0.68      2123\n",
      "weighted avg       0.75      0.77      0.75      2123\n",
      "\n"
     ]
    }
   ],
   "source": [
    "# test the model using the testing data \n",
    "print ('Table 2.Classification Report Decision Tree: \\n',metrics.classification_report(test_lab, test_pred_decision_tree))"
   ]
  },
  {
   "cell_type": "markdown",
   "metadata": {},
   "source": [
    "The next classifier is The Classification and Regression Trees (CART) algorithm. According to table 2, the score of accuracy is 0.78, which means this classifier could predict vote results with an accuracy of 78%. Same as the Logistic Regression, this classifier identifies supporters better than opponents, because the f1-score of 'for' is 0.85, which is larger than the score of 'against'(0.54). Based on low recall score (0.43) of against, CART algorithm does not still performing well since it may miss part of opponents."
   ]
  },
  {
   "cell_type": "markdown",
   "metadata": {},
   "source": [
    "### 4.2.3 Random Forest Classifier"
   ]
  },
  {
   "cell_type": "code",
   "execution_count": 69,
   "metadata": {},
   "outputs": [],
   "source": [
    "from sklearn.ensemble import RandomForestClassifier"
   ]
  },
  {
   "cell_type": "code",
   "execution_count": 70,
   "metadata": {},
   "outputs": [
    {
     "name": "stdout",
     "output_type": "stream",
     "text": [
      "Best parameters:\n",
      "{'n_estimators': 180}\n"
     ]
    }
   ],
   "source": [
    "from sklearn.model_selection import GridSearchCV\n",
    "\n",
    "param_test3 = {\"n_estimators\":[100,110,120,130,140,150,160,170,180,190,200],\n",
    "              }\n",
    "gsearch1 = GridSearchCV(estimator=RandomForestClassifier(),param_grid=param_test3,cv=5,n_jobs=1)\n",
    "gsearch1.fit(data_array, labels_fea)\n",
    "\n",
    "print('Best parameters:')\n",
    "print(gsearch1.best_params_)"
   ]
  },
  {
   "cell_type": "code",
   "execution_count": 71,
   "metadata": {},
   "outputs": [],
   "source": [
    "#train model\n",
    "clf_random_forest  = RandomForestClassifier(n_estimators=150)\n",
    "clf_random_forest = clf_random_forest.fit(train_d, train_lab)\n",
    "test_pred_random_forest = clf_random_forest.predict(test_d)"
   ]
  },
  {
   "cell_type": "code",
   "execution_count": 72,
   "metadata": {},
   "outputs": [
    {
     "name": "stdout",
     "output_type": "stream",
     "text": [
      "Table 3.Classification Report Random Forest : \n",
      "               precision    recall  f1-score   support\n",
      "\n",
      "           0       0.73      0.46      0.56       622\n",
      "           1       0.81      0.93      0.86      1501\n",
      "\n",
      "    accuracy                           0.79      2123\n",
      "   macro avg       0.77      0.69      0.71      2123\n",
      "weighted avg       0.78      0.79      0.78      2123\n",
      "\n"
     ]
    }
   ],
   "source": [
    "# test the model using the testing data \n",
    "print ('Table 3.Classification Report Random Forest : \\n',metrics.classification_report(test_lab, test_pred_random_forest))"
   ]
  },
  {
   "cell_type": "markdown",
   "metadata": {},
   "source": [
    "According to the result of GridSearchCV, the dataset has been trained with 'n_estimators' of 150. Although Khoshgoftaar mentioned in 2007 the random forest method has been shown to perform well with imbalanced data when compared to other machine learning classifiers. Based on table 3, this method performs well in the prediction of supporters, but the prediction of opponents is still not ideal because the recall score (0.46) and f1-score (0.56) are not good enough. "
   ]
  },
  {
   "cell_type": "markdown",
   "metadata": {},
   "source": [
    "### 4.2.4 Support Vector Machines"
   ]
  },
  {
   "cell_type": "code",
   "execution_count": 73,
   "metadata": {},
   "outputs": [],
   "source": [
    "from sklearn.svm import SVC\n",
    "from sklearn import svm"
   ]
  },
  {
   "cell_type": "code",
   "execution_count": 74,
   "metadata": {},
   "outputs": [
    {
     "name": "stdout",
     "output_type": "stream",
     "text": [
      "Best parameters:\n",
      "{'C': 0.1}\n"
     ]
    }
   ],
   "source": [
    "# Set parameter\n",
    "params_test4 = {'C': [1e-3, 1e-2, 1e-1, 1, 10, 100, 1000]\n",
    "         }\n",
    "svc = svm.SVC()\n",
    "clf = GridSearchCV(svc, param_grid=params_test4)\n",
    "clf.fit(data_array,labels_fea)\n",
    "\n",
    "print('Best parameters:')\n",
    "print(clf.best_params_)"
   ]
  },
  {
   "cell_type": "code",
   "execution_count": 75,
   "metadata": {},
   "outputs": [],
   "source": [
    "#train model\n",
    "clf_svc = svm.SVC(C = 0.1)\n",
    "clf_svc = clf_svc.fit(train_d, train_lab)\n",
    "test_pred_svc = clf_svc.predict(test_d)"
   ]
  },
  {
   "cell_type": "code",
   "execution_count": 76,
   "metadata": {},
   "outputs": [
    {
     "name": "stdout",
     "output_type": "stream",
     "text": [
      "Table 4.Classification Report Support Vector Machines : \n",
      "               precision    recall  f1-score   support\n",
      "\n",
      "           0       0.71      0.43      0.53       622\n",
      "           1       0.80      0.93      0.86      1501\n",
      "\n",
      "    accuracy                           0.78      2123\n",
      "   macro avg       0.75      0.68      0.69      2123\n",
      "weighted avg       0.77      0.78      0.76      2123\n",
      "\n"
     ]
    }
   ],
   "source": [
    "# test the model using the testing data \n",
    "print ('Table 4.Classification Report Support Vector Machines : \\n',metrics.classification_report(test_lab, test_pred_svc))"
   ]
  },
  {
   "cell_type": "markdown",
   "metadata": {},
   "source": [
    "The result of Support Vector Machines shows similar results as the previous three methods, all of which have high accuracy in the supporter category, but lack in the prediction of the opponents with a recall score 0.42."
   ]
  },
  {
   "cell_type": "markdown",
   "metadata": {},
   "source": [
    "### 4.2.5 Comparison of Models "
   ]
  },
  {
   "cell_type": "code",
   "execution_count": 77,
   "metadata": {},
   "outputs": [
    {
     "name": "stdout",
     "output_type": "stream",
     "text": [
      "------------------Table 5.Model Compare-------------------\n",
      "\n",
      "Logistic Regression: \n",
      "               precision    recall  f1-score   support\n",
      "\n",
      "           0       0.70      0.47      0.57       622\n",
      "           1       0.81      0.92      0.86      1501\n",
      "\n",
      "    accuracy                           0.79      2123\n",
      "   macro avg       0.76      0.70      0.71      2123\n",
      "weighted avg       0.78      0.79      0.77      2123\n",
      "\n",
      "------------------------------------------------------\n",
      "Decision Tree: \n",
      "               precision    recall  f1-score   support\n",
      "\n",
      "           0       0.65      0.44      0.52       622\n",
      "           1       0.79      0.90      0.84      1501\n",
      "\n",
      "    accuracy                           0.77      2123\n",
      "   macro avg       0.72      0.67      0.68      2123\n",
      "weighted avg       0.75      0.77      0.75      2123\n",
      "\n",
      "------------------------------------------------------\n",
      "Random Forest: \n",
      "               precision    recall  f1-score   support\n",
      "\n",
      "           0       0.73      0.46      0.56       622\n",
      "           1       0.81      0.93      0.86      1501\n",
      "\n",
      "    accuracy                           0.79      2123\n",
      "   macro avg       0.77      0.69      0.71      2123\n",
      "weighted avg       0.78      0.79      0.78      2123\n",
      "\n",
      "------------------------------------------------------\n",
      "SVM: \n",
      "               precision    recall  f1-score   support\n",
      "\n",
      "           0       0.71      0.43      0.53       622\n",
      "           1       0.80      0.93      0.86      1501\n",
      "\n",
      "    accuracy                           0.78      2123\n",
      "   macro avg       0.75      0.68      0.69      2123\n",
      "weighted avg       0.77      0.78      0.76      2123\n",
      "\n"
     ]
    }
   ],
   "source": [
    "print('------------------Table 5.Model Compare-------------------\\n')\n",
    "print('Logistic Regression: \\n', metrics.classification_report(test_lab, test_pred_logit_reg))\n",
    "print('------------------------------------------------------')\n",
    "print('Decision Tree: \\n', metrics.classification_report(test_lab, test_pred_decision_tree))\n",
    "print('------------------------------------------------------')\n",
    "print('Random Forest: \\n', metrics.classification_report(test_lab, test_pred_random_forest))\n",
    "print('------------------------------------------------------')\n",
    "print('SVM: \\n', metrics.classification_report(test_lab, test_pred_svc))"
   ]
  },
  {
   "cell_type": "markdown",
   "metadata": {},
   "source": [
    "According to table 5, all of four models have done well, since the f1 score between 0.78 to 0.80. However, it can be found that the 'for' votes are well classified but the 'against' votes are not. The reason is that the number of the 'against' was 2399, which was far less than supporters, which is called imbalanced data. Based on results, the imbalance of the data, such as the numbers of supporters and opponents differ too much, has affected the experimental results. Alejo et al. (2015) said that the imbalanced problem occurs in a classification problem, namely more samples of some classes than others. The simplest method to solve this problem is increasing the size of the minority class by random over-sampling (Haibo and Garcia, 2009). According to previous research, some over-sampling methods were proposed to deal with the imbalance problem. For example, Chawla et al. (2011) proposed the synthetic minority over-sampling technique (SMOTE), which can generate a new synthetic minority sample by interpolating between several prior positive samples that are close to each other. Besides that, Adaptive synthetic sampling (ADASYN) also uses a system to adaptively create a different number of data based on the synthetic method of data distribution (Haibo,2008). Moreover, García et al. (2008) stated that this method not only generates data but also considers the proximity and spatial distribution of the instances. Hence, this study uses ADASYN algorithm to balance data."
   ]
  },
  {
   "cell_type": "markdown",
   "metadata": {},
   "source": [
    "## 4.3 Classification with Balanced Data \n"
   ]
  },
  {
   "cell_type": "code",
   "execution_count": 78,
   "metadata": {},
   "outputs": [],
   "source": [
    "from imblearn.over_sampling import ADASYN "
   ]
  },
  {
   "cell_type": "code",
   "execution_count": 79,
   "metadata": {
    "scrolled": true
   },
   "outputs": [
    {
     "data": {
      "text/plain": [
       "for        6091\n",
       "against    2399\n",
       "Name: Vote, dtype: int64"
      ]
     },
     "execution_count": 79,
     "metadata": {},
     "output_type": "execute_result"
    }
   ],
   "source": [
    "survey_data['Vote'].value_counts()"
   ]
  },
  {
   "cell_type": "code",
   "execution_count": 80,
   "metadata": {},
   "outputs": [],
   "source": [
    "# Over-sample data based on train data\n",
    "train_resampled, test_resampled = ADASYN().fit_sample(train_d, train_lab) \n"
   ]
  },
  {
   "cell_type": "code",
   "execution_count": 81,
   "metadata": {},
   "outputs": [
    {
     "name": "stdout",
     "output_type": "stream",
     "text": [
      "0    4616\n",
      "1    4590\n",
      "dtype: int64\n"
     ]
    }
   ],
   "source": [
    "print(pd.Series(test_resampled).value_counts()) "
   ]
  },
  {
   "cell_type": "code",
   "execution_count": 82,
   "metadata": {},
   "outputs": [],
   "source": [
    "# split data to train and test\n",
    "train_d_res, test_d_res, train_lab_res, test_lab_res = train_test_split(train_resampled, test_resampled)\n"
   ]
  },
  {
   "cell_type": "markdown",
   "metadata": {},
   "source": [
    "Then this work uses the four methods to train the data again with the previous parameters."
   ]
  },
  {
   "cell_type": "code",
   "execution_count": 83,
   "metadata": {},
   "outputs": [],
   "source": [
    "# Logistic Regression\n",
    "clf_logit_reg_res = LogisticRegression(max_iter=10e3).fit(train_d_res, train_lab_res)\n",
    "test_pred_logit_reg_res = clf_logit_reg_res.predict(test_d_res)\n"
   ]
  },
  {
   "cell_type": "code",
   "execution_count": 84,
   "metadata": {},
   "outputs": [],
   "source": [
    "# Decision Tree\n",
    "clf_decision_tree_res = DecisionTreeClassifier(max_depth=10,min_samples_leaf=7,min_samples_split=4)  # creates the kNN classifier, setting it to check the 60 neighbouring points\n",
    "clf_decision_tree_res.fit(train_d_res, train_lab_res)\n",
    "test_pred_decision_tree_res = clf_decision_tree_res.predict(test_d_res)\n"
   ]
  },
  {
   "cell_type": "code",
   "execution_count": 85,
   "metadata": {},
   "outputs": [],
   "source": [
    "# Random Forest\n",
    "clf_random_forest_res  = RandomForestClassifier(n_estimators=150)\n",
    "clf_random_forest_res = clf_random_forest_res.fit(train_d_res, train_lab_res)\n",
    "test_pred_random_forest_res = clf_random_forest_res.predict(test_d_res)"
   ]
  },
  {
   "cell_type": "code",
   "execution_count": 86,
   "metadata": {},
   "outputs": [],
   "source": [
    "# SVM\n",
    "clf_svc_res = svm.SVC(C=0.1)\n",
    "clf_svc_res = clf_svc_res.fit(train_d_res, train_lab_res)\n",
    "test_pred_svc_res = clf_svc_res.predict(test_d_res)\n"
   ]
  },
  {
   "cell_type": "code",
   "execution_count": 87,
   "metadata": {},
   "outputs": [
    {
     "name": "stdout",
     "output_type": "stream",
     "text": [
      "------------------Table 6.Model Compare-------------------\n",
      "\n",
      "Logistic Regression: \n",
      "               precision    recall  f1-score   support\n",
      "\n",
      "           0       0.71      0.69      0.70      1173\n",
      "           1       0.69      0.70      0.69      1129\n",
      "\n",
      "    accuracy                           0.70      2302\n",
      "   macro avg       0.70      0.70      0.70      2302\n",
      "weighted avg       0.70      0.70      0.70      2302\n",
      "\n",
      "------------------------------------------------------\n",
      "Decision Tree: \n",
      "               precision    recall  f1-score   support\n",
      "\n",
      "           0       0.77      0.71      0.74      1173\n",
      "           1       0.72      0.78      0.75      1129\n",
      "\n",
      "    accuracy                           0.74      2302\n",
      "   macro avg       0.74      0.74      0.74      2302\n",
      "weighted avg       0.75      0.74      0.74      2302\n",
      "\n",
      "------------------------------------------------------\n",
      "Random Forest: \n",
      "               precision    recall  f1-score   support\n",
      "\n",
      "           0       0.91      0.83      0.87      1173\n",
      "           1       0.84      0.91      0.87      1129\n",
      "\n",
      "    accuracy                           0.87      2302\n",
      "   macro avg       0.87      0.87      0.87      2302\n",
      "weighted avg       0.87      0.87      0.87      2302\n",
      "\n",
      "------------------------------------------------------\n",
      "SVM: \n",
      "               precision    recall  f1-score   support\n",
      "\n",
      "           0       0.77      0.75      0.76      1173\n",
      "           1       0.74      0.77      0.75      1129\n",
      "\n",
      "    accuracy                           0.75      2302\n",
      "   macro avg       0.76      0.76      0.75      2302\n",
      "weighted avg       0.76      0.75      0.76      2302\n",
      "\n"
     ]
    }
   ],
   "source": [
    "#Show all results\n",
    "print('------------------Table 6.Model Compare-------------------\\n')\n",
    "print('Logistic Regression: \\n', \n",
    "      metrics.classification_report(test_lab_res, test_pred_logit_reg_res))\n",
    "print('------------------------------------------------------')\n",
    "print('Decision Tree: \\n', \n",
    "      metrics.classification_report(test_lab_res, test_pred_decision_tree_res))\n",
    "print('------------------------------------------------------')\n",
    "print('Random Forest: \\n', \n",
    "      metrics.classification_report(test_lab_res, test_pred_random_forest_res))\n",
    "print('------------------------------------------------------')\n",
    "print('SVM: \\n', \n",
    "      metrics.classification_report(test_lab_res, test_pred_svc_res))\n"
   ]
  },
  {
   "cell_type": "markdown",
   "metadata": {},
   "source": [
    "According to table 6, balanced data improved the accuracy of the prediction. The value of recall for people who voted against increased from 0.4 to 0.8 and the f1-score also improved. However, not all models get good results. Logistic Regression classifier's accuracy is less than data before, and the accuracy of the decision tree has not improved.\n",
    "\n",
    "When training unbalanced data, the four classifiers perform well, with an accuracy between 0.78 and 0.8. Although there are some problems with the prediction of opponents because of the lower recall score. However, when dealing with balanced data, random forest classifier has a better performance than others, and logistic regression does not continue its performance. In this case, both types of predictions are well done."
   ]
  },
  {
   "cell_type": "markdown",
   "metadata": {},
   "source": [
    "# 5.Limitation"
   ]
  },
  {
   "attachments": {},
   "cell_type": "markdown",
   "metadata": {},
   "source": [
    "This study still contains some limitations. The first thing is that the dataset contains too many factors, including more than ten reasons and seven effects. Part of them is irrelevant with the predict values, which may lead to over-fitting.  And it may lead to low robustness or repeatability when the classification model is applied to independent validation data (Nansen et al., 2013). Hence, Principal components analysis (PCA) or Lasso method should be used before starting the process of training data to avoid irrelevant data.\n",
    "\n",
    "On the other hand, the questionnaire survey only collected nationally of all interviewees, which may lead to inaccurate prediction. It is general to only consider the nationally since the situation of cities or regions interviewees lived is also an essential factor should be taken into consideration. For example, people who lived in a rich region in the UK may not care about the Basic Income, but someone in a poor village is willing to support this policy. In the future, respondents' specific living area information can be collected to improve prediction accuracy.\n"
   ]
  },
  {
   "cell_type": "markdown",
   "metadata": {},
   "source": [
    "# 6.Conclusion"
   ]
  },
  {
   "attachments": {},
   "cell_type": "markdown",
   "metadata": {},
   "source": [
    "This report uses four classification algorithms (Logistic Regression, Decision Tree, Random Forest and Support Vector Machines) based on the 2016 European questionnaire survey to predict whether Europeans accepts the concept of basic income. The dataset shows that in 2016, more than 60% of people in the EU supported the Basic Income. In the analysis, this report also finds that the classification with imbalanced data has a high accuracy for the 'for' result, but it does not perform well on the prediction of the 'against' result. Hence, Adaptive synthetic sampling (ADASYN), a method of over-sampling, is used to balance the data. After that, the accuracy of predicting 'against' result increased. Moreover, based on the results from two classifications, Logistic Regression, Random Forest and Support Vector Machines have similar performances when processing imbalanced data. For the balanced data, random Forest shows a  significant advantage in classification than the other three algorithms, and Logistic Regression performs not well to class the data. Hence, to predict people's attitudes, Random Forest classifiers with ADASYN algorithm is recommended. In the future, this method also could be applied to other social questionnaire predictions, which is useful for the local government to formulate policies."
   ]
  },
  {
   "cell_type": "markdown",
   "metadata": {},
   "source": [
    "# 7.Reference List"
   ]
  },
  {
   "cell_type": "markdown",
   "metadata": {},
   "source": [
    "Alawad, W. et al., 2018. Developing Classification Decision Tree Models to Detect Ddos Attacks Using Computationally Efficient Validation and Hyperparameters Tuning Methods, pp.ProQuest Dissertations and Theses."
   ]
  },
  {
   "cell_type": "markdown",
   "metadata": {},
   "source": [
    "Alejo, R., García, V. & Pacheco-Sánchez, J., 2015. An Efficient Over-sampling Approach Based on Mean Square Error Back-propagation for Dealing with the Multi-class Imbalance Problem. Neural Processing Letters, 42(3), pp.603–617."
   ]
  },
  {
   "cell_type": "markdown",
   "metadata": {},
   "source": [
    "Bakhshayeshian, Z. & Khalili, M., 2015. An suggested method to university courses presentation based on cart algorithm to pun universities. 2015 2nd International Conference on Knowledge-Based Engineering and Innovation (KBEI), pp.1170–1173."
   ]
  },
  {
   "cell_type": "markdown",
   "metadata": {},
   "source": [
    "Baranowski, M. & Jabkowski, P., 2019. Basic Income Attitudes and Welfare Regimes: a Comparative Case Study Based on The Survey Results From Selected European Countries. Studia Socjologiczne, 233(2), pp.37–60."
   ]
  },
  {
   "cell_type": "markdown",
   "metadata": {},
   "source": [
    "Breiman, L., 1984. Classification and regression trees / Leo Breiman ... [et al.], Belmont, Calif.: Wadsworth International Group."
   ]
  },
  {
   "cell_type": "markdown",
   "metadata": {},
   "source": [
    "Calnitsky, D. & Latner, J.P., 2017. Basic Income in a Small Town: Understanding the Elusive Effects on Work. Social Problems, 64(3), pp.373–397."
   ]
  },
  {
   "cell_type": "markdown",
   "metadata": {},
   "source": [
    "Chawla, N. et al., 2011. SMOTE: Synthetic Minority Over-sampling Technique. arXiv.org, 16, pp.321–357."
   ]
  },
  {
   "cell_type": "markdown",
   "metadata": {},
   "source": [
    "Coyle, D. & Wildavsky, A., 1987. Requisites of Radical Reform: Income Maintenance Versus Tax Preferences. Journal of Policy Analysis and Management (1986-1998), 7(1), pp.1–16."
   ]
  },
  {
   "cell_type": "markdown",
   "metadata": {},
   "source": [
    "de Boves Harrington, P., 2015. Support Vector Machine Classification Trees. Analytical chemistry, 87(21), pp.11065–11071."
   ]
  },
  {
   "cell_type": "markdown",
   "metadata": {},
   "source": [
    "García V, Sánchez JS, Mollineda RA (2008) On the use of surrounding neighbors for synthetic over-sampling of the minority class. In: Proceedings of the 8th conference on Simulation., modelling and optimization, SMO’08Stevens Point, Wisconsin, USA, pp 389–394"
   ]
  },
  {
   "cell_type": "markdown",
   "metadata": {},
   "source": [
    "Guenther, N. & Schonlau, M., 2016. Support Vector Machines. The Stata Journal, 16(4), pp.917–937."
   ]
  },
  {
   "cell_type": "markdown",
   "metadata": {},
   "source": [
    "Haibo He, E. et al., 2008. ADASYN: Adaptive synthetic sampling approach for imbalanced learning. 2008 IEEE International Joint Conference on Neural Networks (IEEE World Congress on Computational Intelligence), 10, pp.1322–1328."
   ]
  },
  {
   "cell_type": "markdown",
   "metadata": {},
   "source": [
    "Haibo He, E. & Garcia, 2009. Learning from Imbalanced Data. IEEE Transactions on Knowledge and Data Engineering, 21(9), pp.1263–1284."
   ]
  },
  {
   "cell_type": "markdown",
   "metadata": {},
   "source": [
    "Hosmer et al., 2013. Applied logistic regression 3rd ed., Hoboken, N.J.: Wiley."
   ]
  },
  {
   "cell_type": "markdown",
   "metadata": {},
   "source": [
    "Jones, J.D., 2013. Independence Propertylessness and Basic Income: A Theory of Freedom as the Power to Say No Karl Widerquist New York: Palgrave Macmillan 2013 pp 256 $100.00 (hardback) ISBN: 978-1-137-27472-4. Basic Income Studies, 8(2), pp.239–243."
   ]
  },
  {
   "cell_type": "markdown",
   "metadata": {},
   "source": [
    "Kenworthy, L., 2014. Social democratic America / Lane Kenworthy.,\n"
   ]
  },
  {
   "cell_type": "markdown",
   "metadata": {},
   "source": [
    "Liu, Y. et al., 2011. A Comparison of Logistic Regression, Classification and Regression Tree, and Neural Networks Models in Predicting Violent Re-Offending. Journal of Quantitative Criminology, 27(4), pp.547–573."
   ]
  },
  {
   "cell_type": "markdown",
   "metadata": {},
   "source": [
    "Mencinger Jože, 2015. The Revenue Side of a Universal Basic Income in the EU and Euro Area. Danube, 6(3), pp.159–174."
   ]
  },
  {
   "cell_type": "markdown",
   "metadata": {},
   "source": [
    "Moffitt, R.A., 1981. The negative income tax: would it discourage work? Monthly Labor Review, 104(4), pp.23–27."
   ]
  },
  {
   "cell_type": "markdown",
   "metadata": {},
   "source": [
    "Nansen, C. et al., 2013. Agricultural Case Studies of Classification Accuracy, Spectral Resolution, and Model Over-Fitting. Applied Spectroscopy, 67(11), pp.1332–1338."
   ]
  },
  {
   "cell_type": "markdown",
   "metadata": {},
   "source": [
    "Parijs, Philippe Van, 1997. \"Real Freedom for All: What (if Anything) Can Justify Capitalism?,\" OUP Catalogue, Oxford University Press, number 9780198293576."
   ]
  },
  {
   "cell_type": "markdown",
   "metadata": {},
   "source": [
    "Parijs et al., 2001. What's wrong with a free lunch? / Philippe van Parijs ... [et al.] ; foreword by Robert Solow ; edited by Joshua Cohen and Joel Rogers for Boston Review., Boston, Mass.: Beacon Press."
   ]
  },
  {
   "cell_type": "markdown",
   "metadata": {},
   "source": [
    "Wiest, M.M., Lee, K.J. & Carlin, J.B., 2015. Statistics for clinicians: An introduction to logistic regression. Journal of Paediatrics and Child Health, 51(7), pp.670–673."
   ]
  },
  {
   "cell_type": "code",
   "execution_count": 88,
   "metadata": {},
   "outputs": [
    {
     "name": "stdout",
     "output_type": "stream",
     "text": [
      "342.8593399524689\n"
     ]
    }
   ],
   "source": [
    "end_time = time.time()\n",
    "# print the time difference in seconds\n",
    "print(end_time - start_time)"
   ]
  }
 ],
 "metadata": {
  "kernelspec": {
   "display_name": "Python 3",
   "language": "python",
   "name": "python3"
  },
  "language_info": {
   "codemirror_mode": {
    "name": "ipython",
    "version": 3
   },
   "file_extension": ".py",
   "mimetype": "text/x-python",
   "name": "python",
   "nbconvert_exporter": "python",
   "pygments_lexer": "ipython3",
   "version": "3.7.3"
  }
 },
 "nbformat": 4,
 "nbformat_minor": 2
}
